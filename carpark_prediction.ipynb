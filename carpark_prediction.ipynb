{
 "cells": [
  {
   "cell_type": "code",
   "execution_count": 1,
   "metadata": {},
   "outputs": [],
   "source": [
    "import warnings\n",
    "warnings.filterwarnings(\"ignore\")"
   ]
  },
  {
   "cell_type": "code",
   "execution_count": 2,
   "metadata": {},
   "outputs": [],
   "source": [
    "import geopandas as gpd\n",
    "import pandas as pd\n",
    "import numpy as np\n",
    "import os\n",
    "from toolz.curried import *\n",
    "import matplotlib.pyplot as plt\n",
    "import seaborn as sns"
   ]
  },
  {
   "cell_type": "code",
   "execution_count": 3,
   "metadata": {},
   "outputs": [],
   "source": [
    "from util import *"
   ]
  },
  {
   "cell_type": "code",
   "execution_count": 4,
   "metadata": {},
   "outputs": [],
   "source": [
    "import pytorch_lightning as pl\n",
    "from pytorch_lightning.callbacks import EarlyStopping\n",
    "import torch\n",
    "from torch.utils.data import DataLoader\n",
    "\n",
    "from pytorch_forecasting import Baseline, NBeats, TimeSeriesDataSet\n",
    "from pytorch_forecasting.data import NaNLabelEncoder\n",
    "from pytorch_forecasting.metrics import SMAPE\n",
    "from dataloader import subset_sampler"
   ]
  },
  {
   "cell_type": "code",
   "execution_count": 5,
   "metadata": {},
   "outputs": [],
   "source": [
    "from models import RNN"
   ]
  },
  {
   "cell_type": "code",
   "execution_count": 6,
   "metadata": {},
   "outputs": [
    {
     "name": "stdout",
     "output_type": "stream",
     "text": [
      "/home_nfs/jiangyue/github/carpark-prediction/lightning_logs/version_33/checkpoints/epoch=2-step=1499.ckpt\n",
      "cuda:0\n"
     ]
    }
   ],
   "source": [
    "device = torch.device(\"cuda:0\")\n",
    "best_model_path=\"/home_nfs/jiangyue/github/carpark-prediction/lightning_logs/version_33/checkpoints/epoch=2-step=1499.ckpt\"\n",
    "best_model = RNN.load_from_checkpoint(best_model_path).to(device)\n",
    "print(best_model_path)\n",
    "print(best_model.device)"
   ]
  },
  {
   "cell_type": "code",
   "execution_count": 7,
   "metadata": {},
   "outputs": [],
   "source": [
    "year, month = 2021, 6\n",
    "carpark_dir = \"/home_nfs/jiangyue/data/carparking\"\n",
    "month_dir = os.path.join(carpark_dir, f\"{year}/{month:02}\")\n",
    "carpark_meta = load_carpark_meta(os.path.join(carpark_dir, \"carpark_meta_present.geojson\"))"
   ]
  },
  {
   "cell_type": "code",
   "execution_count": 8,
   "metadata": {},
   "outputs": [
    {
     "name": "stdout",
     "output_type": "stream",
     "text": [
      "Loading /home_nfs/jiangyue/data/carparking/carpark_data_2021_06_17-18.json\n"
     ]
    }
   ],
   "source": [
    "carpark_data_names = [\n",
    "    \"carpark_data_2021_06_17-18.json\",\n",
    "    #\"carpark_data_2021_04_21-25.json\",\n",
    "    #\"carpark_data_2021_04_26-30.json\"\n",
    "]\n",
    "\n",
    "carpark_data = load_carpark_data_list(\n",
    "    [os.path.join(carpark_dir, name) for name in carpark_data_names]\n",
    ")"
   ]
  },
  {
   "cell_type": "code",
   "execution_count": 9,
   "metadata": {
    "tags": [
     "outputPrepend"
    ]
   },
   "outputs": [
    {
     "name": "stderr",
     "output_type": "stream",
     "text": [
      "100%|██████████| 1918/1918 [01:26<00:00, 22.22it/s]\n"
     ]
    }
   ],
   "source": [
    "carpark_data = carpark_remove_outlier(carpark_data)\n",
    "carpark_data = carpark_data.fillna(method=\"ffill\")"
   ]
  },
  {
   "cell_type": "code",
   "execution_count": 10,
   "metadata": {},
   "outputs": [
    {
     "data": {
      "text/plain": [
       "1918"
      ]
     },
     "execution_count": 10,
     "metadata": {},
     "output_type": "execute_result"
    }
   ],
   "source": [
    "carpark_data = carpark_add_date(carpark_data)\n",
    "carpark_data[\"min\"] = (carpark_data.tid % 1440 // 5).astype(str)\n",
    "len(carpark_data.sid.unique())"
   ]
  },
  {
   "cell_type": "code",
   "execution_count": 11,
   "metadata": {},
   "outputs": [],
   "source": [
    "tid_start=len(carpark_data.tid.unique())\n",
    "tid_end=tid_start+119\n",
    "sid_start=0\n",
    "sid_end=len(carpark_data.sid.unique())-1\n",
    "date_info=carpark_data.iloc[tid_start-1].at['date']\n",
    "carpark_data_c=carpark_data.copy()\n",
    "date_data=pd.date_range(date_info, periods=121, freq='T')[1:]\n",
    "sid_list=range(len(carpark_data.sid.unique()))"
   ]
  },
  {
   "cell_type": "code",
   "execution_count": 12,
   "metadata": {},
   "outputs": [],
   "source": [
    "for x in sid_list:\n",
    "    data={\"sid\":[x]*120,\"tid\":range(tid_start, tid_end+1),\"AvailableLots\":[0]*120, 'date':date_data }\n",
    "    df=pd.DataFrame(data,index=range(120))\n",
    "    df[\"min\"] = (df.tid % 1440 // 5).astype(str)\n",
    "    frames = [carpark_data_c, df]\n",
    "    carpark_data_c = pd.concat(frames)"
   ]
  },
  {
   "cell_type": "code",
   "execution_count": 13,
   "metadata": {},
   "outputs": [],
   "source": [
    "carpark_data_c=carpark_data_c.reset_index(drop=True)"
   ]
  },
  {
   "cell_type": "code",
   "execution_count": 14,
   "metadata": {},
   "outputs": [],
   "source": [
    "carpark_data_c['Weekday']=carpark_data_c['date'].dt.dayofweek.astype(str)"
   ]
  },
  {
   "cell_type": "code",
   "execution_count": 15,
   "metadata": {},
   "outputs": [
    {
     "data": {
      "text/html": [
       "<div>\n",
       "<style scoped>\n",
       "    .dataframe tbody tr th:only-of-type {\n",
       "        vertical-align: middle;\n",
       "    }\n",
       "\n",
       "    .dataframe tbody tr th {\n",
       "        vertical-align: top;\n",
       "    }\n",
       "\n",
       "    .dataframe thead th {\n",
       "        text-align: right;\n",
       "    }\n",
       "</style>\n",
       "<table border=\"1\" class=\"dataframe\">\n",
       "  <thead>\n",
       "    <tr style=\"text-align: right;\">\n",
       "      <th></th>\n",
       "      <th>sid</th>\n",
       "      <th>tid</th>\n",
       "      <th>AvailableLots</th>\n",
       "      <th>date</th>\n",
       "      <th>min</th>\n",
       "      <th>Weekday</th>\n",
       "    </tr>\n",
       "  </thead>\n",
       "  <tbody>\n",
       "    <tr>\n",
       "      <th>0</th>\n",
       "      <td>0</td>\n",
       "      <td>0</td>\n",
       "      <td>2786.0</td>\n",
       "      <td>2021-06-17 00:00:00</td>\n",
       "      <td>0</td>\n",
       "      <td>3</td>\n",
       "    </tr>\n",
       "    <tr>\n",
       "      <th>1</th>\n",
       "      <td>0</td>\n",
       "      <td>1</td>\n",
       "      <td>2787.0</td>\n",
       "      <td>2021-06-17 00:01:00</td>\n",
       "      <td>0</td>\n",
       "      <td>3</td>\n",
       "    </tr>\n",
       "    <tr>\n",
       "      <th>2</th>\n",
       "      <td>0</td>\n",
       "      <td>2</td>\n",
       "      <td>2787.0</td>\n",
       "      <td>2021-06-17 00:02:00</td>\n",
       "      <td>0</td>\n",
       "      <td>3</td>\n",
       "    </tr>\n",
       "    <tr>\n",
       "      <th>3</th>\n",
       "      <td>0</td>\n",
       "      <td>3</td>\n",
       "      <td>2787.0</td>\n",
       "      <td>2021-06-17 00:03:00</td>\n",
       "      <td>0</td>\n",
       "      <td>3</td>\n",
       "    </tr>\n",
       "    <tr>\n",
       "      <th>4</th>\n",
       "      <td>0</td>\n",
       "      <td>4</td>\n",
       "      <td>2787.0</td>\n",
       "      <td>2021-06-17 00:04:00</td>\n",
       "      <td>0</td>\n",
       "      <td>3</td>\n",
       "    </tr>\n",
       "  </tbody>\n",
       "</table>\n",
       "</div>"
      ],
      "text/plain": [
       "   sid  tid  AvailableLots                date min Weekday\n",
       "0    0    0         2786.0 2021-06-17 00:00:00   0       3\n",
       "1    0    1         2787.0 2021-06-17 00:01:00   0       3\n",
       "2    0    2         2787.0 2021-06-17 00:02:00   0       3\n",
       "3    0    3         2787.0 2021-06-17 00:03:00   0       3\n",
       "4    0    4         2787.0 2021-06-17 00:04:00   0       3"
      ]
     },
     "execution_count": 15,
     "metadata": {},
     "output_type": "execute_result"
    }
   ],
   "source": [
    "carpark_data_c.head()"
   ]
  },
  {
   "cell_type": "code",
   "execution_count": 16,
   "metadata": {},
   "outputs": [
    {
     "name": "stdout",
     "output_type": "stream",
     "text": [
      "          sid  tid  AvailableLots       date min Weekday\n",
      "0           0    0         2786.0 2021-06-17   0       3\n",
      "2647        1    0         1874.0 2021-06-17   0       3\n",
      "5294        2    0          709.0 2021-06-17   0       3\n",
      "7941        3    0          645.0 2021-06-17   0       3\n",
      "10588       4    0          138.0 2021-06-17   0       3\n",
      "...       ...  ...            ...        ...  ..     ...\n",
      "5063711  1913    0          339.0 2021-06-17   0       3\n",
      "5066358  1914    0          221.0 2021-06-17   0       3\n",
      "5069005  1915    0          327.0 2021-06-17   0       3\n",
      "5071652  1916    0          327.0 2021-06-17   0       3\n",
      "5074299  1917    0          338.0 2021-06-17   0       3\n",
      "\n",
      "[1918 rows x 6 columns]\n"
     ]
    }
   ],
   "source": [
    "print(carpark_data_c[carpark_data_c.tid==0])"
   ]
  },
  {
   "cell_type": "code",
   "execution_count": 17,
   "metadata": {},
   "outputs": [],
   "source": [
    "context_length = 12*60\n",
    "prediction_length = 2*60\n",
    "\n",
    "test = TimeSeriesDataSet(\n",
    "    carpark_data_c,\n",
    "    time_idx=\"tid\",\n",
    "    group_ids=[\"sid\"],\n",
    "    target=\"AvailableLots\",\n",
    "    time_varying_unknown_reals=[\"AvailableLots\"],\n",
    "    max_encoder_length=context_length,\n",
    "    max_prediction_length=prediction_length,\n",
    "    time_varying_known_categoricals=[\"min\", \"Weekday\"],\n",
    "    predict_mode=True\n",
    ")"
   ]
  },
  {
   "cell_type": "code",
   "execution_count": 18,
   "metadata": {},
   "outputs": [
    {
     "data": {
      "application/vnd.jupyter.widget-view+json": {
       "model_id": "fc240f162b4649fc8257f5d8fb4392e6",
       "version_major": 2,
       "version_minor": 0
      },
      "text/plain": [
       "Predict:   0%|          | 0/4 [00:00<?, ? batches/s]"
      ]
     },
     "metadata": {},
     "output_type": "display_data"
    }
   ],
   "source": [
    "real_prediction=best_model.predict(test, batch_size=500, show_progress_bar=True)"
   ]
  },
  {
   "cell_type": "code",
   "execution_count": 19,
   "metadata": {},
   "outputs": [
    {
     "name": "stdout",
     "output_type": "stream",
     "text": [
      "torch.Size([1918, 120])\n"
     ]
    }
   ],
   "source": [
    "print(real_prediction.shape)"
   ]
  },
  {
   "cell_type": "code",
   "execution_count": 20,
   "metadata": {},
   "outputs": [
    {
     "data": {
      "text/plain": [
       "tensor([848.0387, 847.0284, 846.6663, 845.5227, 843.6810, 842.7443, 842.2877,\n",
       "        842.2467, 840.5222, 839.0427, 838.0204, 837.4323, 837.1828, 836.8389,\n",
       "        836.0161, 835.5616, 835.3127, 835.1778, 832.2161, 831.1003, 830.5830,\n",
       "        830.5827, 831.0407, 830.1378, 826.9680, 825.1459, 824.2448, 824.2203,\n",
       "        821.4538, 821.4397])"
      ]
     },
     "execution_count": 20,
     "metadata": {},
     "output_type": "execute_result"
    }
   ],
   "source": [
    "# Predict the carpark lots using form [ID, 0 min : 30 mins]\n",
    "# Here predicting carpark ID = 548 for future 30 minutes\n",
    "real_prediction[548,0:30]"
   ]
  }
 ],
 "metadata": {
  "interpreter": {
   "hash": "f72e70f988f1c56caae784560892b1a82ca92323e7ace1ee4491533d71f07d2a"
  },
  "kernelspec": {
   "display_name": "Python 3.8.10 64-bit ('pytorch-gpu': conda)",
   "name": "python3"
  },
  "language_info": {
   "codemirror_mode": {
    "name": "ipython",
    "version": 3
   },
   "file_extension": ".py",
   "mimetype": "text/x-python",
   "name": "python",
   "nbconvert_exporter": "python",
   "pygments_lexer": "ipython3",
   "version": "3.8.10"
  },
  "orig_nbformat": 4
 },
 "nbformat": 4,
 "nbformat_minor": 2
}
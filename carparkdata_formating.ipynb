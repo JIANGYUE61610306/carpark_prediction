{
 "cells": [
  {
   "cell_type": "code",
   "execution_count": 1,
   "source": [
    "## running once\n",
    "%load_ext autoreload\n",
    "%autoreload 2"
   ],
   "outputs": [],
   "metadata": {}
  },
  {
   "cell_type": "code",
   "execution_count": 2,
   "source": [
    "import geopandas as gpd\n",
    "import pandas as pd\n",
    "import numpy as np\n",
    "import os\n",
    "from toolz.curried import *\n",
    "import matplotlib.pyplot as plt\n",
    "import seaborn as sns"
   ],
   "outputs": [],
   "metadata": {}
  },
  {
   "cell_type": "markdown",
   "source": [
    "## Loading dataset"
   ],
   "metadata": {}
  },
  {
   "cell_type": "code",
   "execution_count": 3,
   "source": [
    "from util import *"
   ],
   "outputs": [],
   "metadata": {}
  },
  {
   "cell_type": "code",
   "execution_count": 4,
   "source": [
    "year, month = 2021, 6\n",
    "carpark_dir = \"/home_nfs/jiangyue/data/carparking\"\n",
    "month_dir = os.path.join(carpark_dir, f\"{year}/{month:02}\")\n",
    "carpark_meta = load_carpark_meta(os.path.join(carpark_dir, \"carpark_meta_three_weeks.geojson\"))"
   ],
   "outputs": [],
   "metadata": {}
  },
  {
   "cell_type": "code",
   "execution_count": 5,
   "source": [
    "#carpark_meta\n",
    "\n",
    "#carpark_meta[carpark_meta.Agency == \"HDB\"]\n",
    "\n",
    "#carpark_meta[carpark_meta.Agency == \"URA\"]\n",
    "\n",
    "#carpark_meta[carpark_meta.Agency == \"LTA\"].head()"
   ],
   "outputs": [],
   "metadata": {}
  },
  {
   "cell_type": "code",
   "execution_count": 6,
   "source": [
    "%%time\n",
    "carpark_data_names = [\n",
    "    \"carpark_data_2021_06_01-21.json\",\n",
    "    #\"carpark_data_2021_04_21-25.json\",\n",
    "    #\"carpark_data_2021_04_26-30.json\"\n",
    "]\n",
    "\n",
    "carpark_data = load_carpark_data_list(\n",
    "    [os.path.join(carpark_dir, name) for name in carpark_data_names]\n",
    ")"
   ],
   "outputs": [
    {
     "output_type": "stream",
     "name": "stdout",
     "text": [
      "Loading /home_nfs/jiangyue/data/carparking/carpark_data_2021_06_01-21.json\n",
      "CPU times: user 13min 2s, sys: 1min 14s, total: 14min 16s\n",
      "Wall time: 14min 15s\n"
     ]
    }
   ],
   "metadata": {}
  },
  {
   "cell_type": "code",
   "execution_count": 7,
   "source": [
    "carpark_data_o = carpark_data.copy()\n",
    "carpark_data_o.reset_index(inplace=True)\n",
    "carpark_data_o.rename(columns={\"tid\": \"date\"}, inplace=True)\n",
    "\n",
    "carpark_data = carpark_remove_outlier(carpark_data)\n",
    "carpark_data = carpark_data.fillna(method=\"ffill\")"
   ],
   "outputs": [
    {
     "output_type": "stream",
     "name": "stderr",
     "text": [
      "100%|██████████| 1918/1918 [18:22<00:00,  1.74it/s]\n"
     ]
    }
   ],
   "metadata": {}
  },
  {
   "cell_type": "code",
   "execution_count": 8,
   "source": [
    "carpark_data = carpark_add_date(carpark_data)\n",
    "carpark_data = carpark_remove_constant(carpark_data)\n",
    "carpark_data[\"min\"] = (carpark_data.tid % 1440 // 5).astype(str)\n",
    "len(carpark_data.sid.unique())"
   ],
   "outputs": [
    {
     "output_type": "execute_result",
     "data": {
      "text/plain": [
       "1843"
      ]
     },
     "metadata": {},
     "execution_count": 8
    }
   ],
   "metadata": {}
  },
  {
   "cell_type": "code",
   "execution_count": 9,
   "source": [
    "carpark_data['Weekday']=carpark_data['date'].dt.dayofweek.astype(str) \n",
    "df = pd.merge(carpark_data,carpark_meta[['sid','Agency']],on='sid', how='left') #label HDB and Non HDB data\n",
    "df['Agency'] = df.Agency.map(lambda x: 1 if x =='HDB' else 0).astype(str)"
   ],
   "outputs": [],
   "metadata": {}
  },
  {
   "cell_type": "code",
   "execution_count": 12,
   "source": [
    "df.to_csv('carpark_data_06_01-21', index = False) # Saving the data for RNN model processing"
   ],
   "outputs": [],
   "metadata": {}
  },
  {
   "cell_type": "code",
   "execution_count": 17,
   "source": [
    "df.rename(columns = {\"min\": \"mins\"}, inplace=True)\n",
    "df.head()"
   ],
   "outputs": [
    {
     "output_type": "execute_result",
     "data": {
      "text/plain": [
       "   sid  tid  AvailableLots                date mins Weekday Agency\n",
       "0    0    0         2797.0 2021-06-01 00:00:00    0       1      0\n",
       "1    0    1         2797.0 2021-06-01 00:01:00    0       1      0\n",
       "2    0    2         2797.0 2021-06-01 00:02:00    0       1      0\n",
       "3    0    3         2797.0 2021-06-01 00:03:00    0       1      0\n",
       "4    0    4         2797.0 2021-06-01 00:04:00    0       1      0"
      ],
      "text/html": [
       "<div>\n",
       "<style scoped>\n",
       "    .dataframe tbody tr th:only-of-type {\n",
       "        vertical-align: middle;\n",
       "    }\n",
       "\n",
       "    .dataframe tbody tr th {\n",
       "        vertical-align: top;\n",
       "    }\n",
       "\n",
       "    .dataframe thead th {\n",
       "        text-align: right;\n",
       "    }\n",
       "</style>\n",
       "<table border=\"1\" class=\"dataframe\">\n",
       "  <thead>\n",
       "    <tr style=\"text-align: right;\">\n",
       "      <th></th>\n",
       "      <th>sid</th>\n",
       "      <th>tid</th>\n",
       "      <th>AvailableLots</th>\n",
       "      <th>date</th>\n",
       "      <th>mins</th>\n",
       "      <th>Weekday</th>\n",
       "      <th>Agency</th>\n",
       "    </tr>\n",
       "  </thead>\n",
       "  <tbody>\n",
       "    <tr>\n",
       "      <th>0</th>\n",
       "      <td>0</td>\n",
       "      <td>0</td>\n",
       "      <td>2797.0</td>\n",
       "      <td>2021-06-01 00:00:00</td>\n",
       "      <td>0</td>\n",
       "      <td>1</td>\n",
       "      <td>0</td>\n",
       "    </tr>\n",
       "    <tr>\n",
       "      <th>1</th>\n",
       "      <td>0</td>\n",
       "      <td>1</td>\n",
       "      <td>2797.0</td>\n",
       "      <td>2021-06-01 00:01:00</td>\n",
       "      <td>0</td>\n",
       "      <td>1</td>\n",
       "      <td>0</td>\n",
       "    </tr>\n",
       "    <tr>\n",
       "      <th>2</th>\n",
       "      <td>0</td>\n",
       "      <td>2</td>\n",
       "      <td>2797.0</td>\n",
       "      <td>2021-06-01 00:02:00</td>\n",
       "      <td>0</td>\n",
       "      <td>1</td>\n",
       "      <td>0</td>\n",
       "    </tr>\n",
       "    <tr>\n",
       "      <th>3</th>\n",
       "      <td>0</td>\n",
       "      <td>3</td>\n",
       "      <td>2797.0</td>\n",
       "      <td>2021-06-01 00:03:00</td>\n",
       "      <td>0</td>\n",
       "      <td>1</td>\n",
       "      <td>0</td>\n",
       "    </tr>\n",
       "    <tr>\n",
       "      <th>4</th>\n",
       "      <td>0</td>\n",
       "      <td>4</td>\n",
       "      <td>2797.0</td>\n",
       "      <td>2021-06-01 00:04:00</td>\n",
       "      <td>0</td>\n",
       "      <td>1</td>\n",
       "      <td>0</td>\n",
       "    </tr>\n",
       "  </tbody>\n",
       "</table>\n",
       "</div>"
      ]
     },
     "metadata": {},
     "execution_count": 17
    }
   ],
   "metadata": {}
  },
  {
   "cell_type": "code",
   "execution_count": 35,
   "source": [
    "# dp = df[df.tid%5==0]\n",
    "# dp.loc[:, 'tid'] = dp['tid']//5\n",
    "# dp.head()"
   ],
   "outputs": [
    {
     "output_type": "stream",
     "name": "stderr",
     "text": [
      "/home_nfs/jiangyue/anaconda3/envs/pytorch-gpu/lib/python3.8/site-packages/pandas/core/indexing.py:1676: SettingWithCopyWarning: \n",
      "A value is trying to be set on a copy of a slice from a DataFrame.\n",
      "Try using .loc[row_indexer,col_indexer] = value instead\n",
      "\n",
      "See the caveats in the documentation: https://pandas.pydata.org/pandas-docs/stable/user_guide/indexing.html#returning-a-view-versus-a-copy\n",
      "  self._setitem_single_column(ilocs[0], value, pi)\n"
     ]
    },
    {
     "output_type": "execute_result",
     "data": {
      "text/plain": [
       "    sid  tid  AvailableLots                date mins Weekday Agency\n",
       "0     0    0         2797.0 2021-06-01 00:00:00    0       1      0\n",
       "5     0    1         2799.0 2021-06-01 00:05:00    1       1      0\n",
       "10    0    2         2803.0 2021-06-01 00:10:00    2       1      0\n",
       "15    0    3         2805.0 2021-06-01 00:15:00    3       1      0\n",
       "20    0    4         2804.0 2021-06-01 00:20:00    4       1      0"
      ],
      "text/html": [
       "<div>\n",
       "<style scoped>\n",
       "    .dataframe tbody tr th:only-of-type {\n",
       "        vertical-align: middle;\n",
       "    }\n",
       "\n",
       "    .dataframe tbody tr th {\n",
       "        vertical-align: top;\n",
       "    }\n",
       "\n",
       "    .dataframe thead th {\n",
       "        text-align: right;\n",
       "    }\n",
       "</style>\n",
       "<table border=\"1\" class=\"dataframe\">\n",
       "  <thead>\n",
       "    <tr style=\"text-align: right;\">\n",
       "      <th></th>\n",
       "      <th>sid</th>\n",
       "      <th>tid</th>\n",
       "      <th>AvailableLots</th>\n",
       "      <th>date</th>\n",
       "      <th>mins</th>\n",
       "      <th>Weekday</th>\n",
       "      <th>Agency</th>\n",
       "    </tr>\n",
       "  </thead>\n",
       "  <tbody>\n",
       "    <tr>\n",
       "      <th>0</th>\n",
       "      <td>0</td>\n",
       "      <td>0</td>\n",
       "      <td>2797.0</td>\n",
       "      <td>2021-06-01 00:00:00</td>\n",
       "      <td>0</td>\n",
       "      <td>1</td>\n",
       "      <td>0</td>\n",
       "    </tr>\n",
       "    <tr>\n",
       "      <th>5</th>\n",
       "      <td>0</td>\n",
       "      <td>1</td>\n",
       "      <td>2799.0</td>\n",
       "      <td>2021-06-01 00:05:00</td>\n",
       "      <td>1</td>\n",
       "      <td>1</td>\n",
       "      <td>0</td>\n",
       "    </tr>\n",
       "    <tr>\n",
       "      <th>10</th>\n",
       "      <td>0</td>\n",
       "      <td>2</td>\n",
       "      <td>2803.0</td>\n",
       "      <td>2021-06-01 00:10:00</td>\n",
       "      <td>2</td>\n",
       "      <td>1</td>\n",
       "      <td>0</td>\n",
       "    </tr>\n",
       "    <tr>\n",
       "      <th>15</th>\n",
       "      <td>0</td>\n",
       "      <td>3</td>\n",
       "      <td>2805.0</td>\n",
       "      <td>2021-06-01 00:15:00</td>\n",
       "      <td>3</td>\n",
       "      <td>1</td>\n",
       "      <td>0</td>\n",
       "    </tr>\n",
       "    <tr>\n",
       "      <th>20</th>\n",
       "      <td>0</td>\n",
       "      <td>4</td>\n",
       "      <td>2804.0</td>\n",
       "      <td>2021-06-01 00:20:00</td>\n",
       "      <td>4</td>\n",
       "      <td>1</td>\n",
       "      <td>0</td>\n",
       "    </tr>\n",
       "  </tbody>\n",
       "</table>\n",
       "</div>"
      ]
     },
     "metadata": {},
     "execution_count": 35
    }
   ],
   "metadata": {}
  },
  {
   "cell_type": "markdown",
   "source": [
    "Processing raw data for XGBoost"
   ],
   "metadata": {}
  },
  {
   "cell_type": "code",
   "execution_count": 42,
   "source": [
    "t = 0\n",
    "l = 20\n",
    "n=30\n",
    "i = 0\n",
    "X = pd.DataFrame(np.random.randn(1,l+2))\n",
    "Y = pd.DataFrame(np.random.randn(1,1))\n",
    "for s in df.sid.unique()[0:10]:\n",
    "# for s in range(100):\n",
    "    print(f'Now processing carpark ID: {s}')\n",
    "    df_s = df[df.sid == s]\n",
    "    for t in range(len(df.tid.unique())-l-n+1):\n",
    "    # for t in range(50):\n",
    "        Xiter = df_s.AvailableLots[t:t+l].values.reshape(1, -1)[0]\n",
    "        minsiter = df_s.mins[t:t+l+n].values[-1]\n",
    "        minsiter = int(minsiter)\n",
    "        Xiter = list(Xiter)\n",
    "        Xiter.append(minsiter)\n",
    "        dayiter = df_s.Weekday[t:t+l].values[-1]\n",
    "        Xiter.append(dayiter)\n",
    "        X.loc[i] = Xiter\n",
    "        target = df_s.AvailableLots[t:t+l+n].values.reshape(1, -1)[0][-1]\n",
    "        Y.loc[i] = target\n",
    "        i += 1\n",
    "print(i)"
   ],
   "outputs": [
    {
     "output_type": "stream",
     "name": "stdout",
     "text": [
      "Now processing carpark ID: 0\n",
      "Now processing carpark ID: 1\n",
      "Now processing carpark ID: 2\n",
      "Now processing carpark ID: 3\n",
      "Now processing carpark ID: 4\n",
      "Now processing carpark ID: 5\n",
      "Now processing carpark ID: 6\n",
      "Now processing carpark ID: 7\n",
      "Now processing carpark ID: 8\n",
      "Now processing carpark ID: 9\n",
      "301910\n"
     ]
    }
   ],
   "metadata": {}
  },
  {
   "cell_type": "code",
   "execution_count": 44,
   "source": [
    "X.to_csv('XGBdata', index = False) ### Save data to csv format for XGBprocess\n",
    "Y.to_csv('XGBtarget', index = False)"
   ],
   "outputs": [],
   "metadata": {}
  }
 ],
 "metadata": {
  "interpreter": {
   "hash": "f72e70f988f1c56caae784560892b1a82ca92323e7ace1ee4491533d71f07d2a"
  },
  "kernelspec": {
   "name": "python3",
   "display_name": "Python 3.8.10 64-bit ('pytorch-gpu': conda)"
  },
  "language_info": {
   "codemirror_mode": {
    "name": "ipython",
    "version": 3
   },
   "file_extension": ".py",
   "mimetype": "text/x-python",
   "name": "python",
   "nbconvert_exporter": "python",
   "pygments_lexer": "ipython3",
   "version": "3.8.10"
  }
 },
 "nbformat": 4,
 "nbformat_minor": 5
}
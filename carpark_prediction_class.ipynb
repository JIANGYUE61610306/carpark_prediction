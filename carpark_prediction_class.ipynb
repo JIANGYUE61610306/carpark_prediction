{
 "cells": [
  {
   "cell_type": "code",
   "execution_count": 66,
   "source": [
    "import warnings\n",
    "warnings.filterwarnings(\"ignore\")"
   ],
   "outputs": [],
   "metadata": {}
  },
  {
   "cell_type": "code",
   "execution_count": 67,
   "source": [
    "import geopandas as gpd\n",
    "import pandas as pd\n",
    "import numpy as np\n",
    "import os\n",
    "from toolz.curried import *\n",
    "import matplotlib.pyplot as plt\n",
    "import seaborn as sns"
   ],
   "outputs": [],
   "metadata": {}
  },
  {
   "cell_type": "code",
   "execution_count": 68,
   "source": [
    "from util import *"
   ],
   "outputs": [],
   "metadata": {}
  },
  {
   "cell_type": "code",
   "execution_count": 69,
   "source": [
    "import pytorch_lightning as pl\n",
    "from pytorch_lightning.callbacks import EarlyStopping\n",
    "import torch\n",
    "from torch.utils.data import DataLoader\n",
    "\n",
    "from pytorch_forecasting import Baseline, NBeats, TimeSeriesDataSet\n",
    "from pytorch_forecasting.data import NaNLabelEncoder\n",
    "from pytorch_forecasting.metrics import SMAPE\n",
    "from dataloader import subset_sampler"
   ],
   "outputs": [],
   "metadata": {}
  },
  {
   "cell_type": "code",
   "execution_count": 70,
   "source": [
    "from models import RNN"
   ],
   "outputs": [],
   "metadata": {}
  },
  {
   "cell_type": "code",
   "execution_count": 71,
   "source": [
    "### Loading saved model\n",
    "device = torch.device(\"cuda:0\")\n",
    "best_model_path=\"/home_nfs/jiangyue/github/carpark-prediction/lightning_logs/version_69/checkpoints/epoch=2-step=1499.ckpt\"\n",
    "# best_model_path=\"/home_nfs/jiangyue/github/carpark-prediction/lightning_logs/version_43/checkpoints/epoch=18-step=2241.ckpt\"\n",
    "best_model = RNN.load_from_checkpoint(best_model_path).to(device)\n",
    "print(best_model_path)\n",
    "print(best_model.device)"
   ],
   "outputs": [
    {
     "output_type": "stream",
     "name": "stdout",
     "text": [
      "/home_nfs/jiangyue/github/carpark-prediction/lightning_logs/version_69/checkpoints/epoch=2-step=1499.ckpt\n",
      "cuda:0\n"
     ]
    }
   ],
   "metadata": {}
  },
  {
   "cell_type": "code",
   "execution_count": 72,
   "source": [
    "### Loading saved data\n",
    "df = pd.read_csv('carpark_data_06_01-21')\n",
    "df.head()"
   ],
   "outputs": [
    {
     "output_type": "execute_result",
     "data": {
      "text/plain": [
       "   sid  tid  AvailableLots                 date  min  Weekday  Agency\n",
       "0    0    0         2797.0  2021-06-01 00:00:00    0        1       0\n",
       "1    0    1         2797.0  2021-06-01 00:01:00    0        1       0\n",
       "2    0    2         2797.0  2021-06-01 00:02:00    0        1       0\n",
       "3    0    3         2797.0  2021-06-01 00:03:00    0        1       0\n",
       "4    0    4         2797.0  2021-06-01 00:04:00    0        1       0"
      ],
      "text/html": [
       "<div>\n",
       "<style scoped>\n",
       "    .dataframe tbody tr th:only-of-type {\n",
       "        vertical-align: middle;\n",
       "    }\n",
       "\n",
       "    .dataframe tbody tr th {\n",
       "        vertical-align: top;\n",
       "    }\n",
       "\n",
       "    .dataframe thead th {\n",
       "        text-align: right;\n",
       "    }\n",
       "</style>\n",
       "<table border=\"1\" class=\"dataframe\">\n",
       "  <thead>\n",
       "    <tr style=\"text-align: right;\">\n",
       "      <th></th>\n",
       "      <th>sid</th>\n",
       "      <th>tid</th>\n",
       "      <th>AvailableLots</th>\n",
       "      <th>date</th>\n",
       "      <th>min</th>\n",
       "      <th>Weekday</th>\n",
       "      <th>Agency</th>\n",
       "    </tr>\n",
       "  </thead>\n",
       "  <tbody>\n",
       "    <tr>\n",
       "      <th>0</th>\n",
       "      <td>0</td>\n",
       "      <td>0</td>\n",
       "      <td>2797.0</td>\n",
       "      <td>2021-06-01 00:00:00</td>\n",
       "      <td>0</td>\n",
       "      <td>1</td>\n",
       "      <td>0</td>\n",
       "    </tr>\n",
       "    <tr>\n",
       "      <th>1</th>\n",
       "      <td>0</td>\n",
       "      <td>1</td>\n",
       "      <td>2797.0</td>\n",
       "      <td>2021-06-01 00:01:00</td>\n",
       "      <td>0</td>\n",
       "      <td>1</td>\n",
       "      <td>0</td>\n",
       "    </tr>\n",
       "    <tr>\n",
       "      <th>2</th>\n",
       "      <td>0</td>\n",
       "      <td>2</td>\n",
       "      <td>2797.0</td>\n",
       "      <td>2021-06-01 00:02:00</td>\n",
       "      <td>0</td>\n",
       "      <td>1</td>\n",
       "      <td>0</td>\n",
       "    </tr>\n",
       "    <tr>\n",
       "      <th>3</th>\n",
       "      <td>0</td>\n",
       "      <td>3</td>\n",
       "      <td>2797.0</td>\n",
       "      <td>2021-06-01 00:03:00</td>\n",
       "      <td>0</td>\n",
       "      <td>1</td>\n",
       "      <td>0</td>\n",
       "    </tr>\n",
       "    <tr>\n",
       "      <th>4</th>\n",
       "      <td>0</td>\n",
       "      <td>4</td>\n",
       "      <td>2797.0</td>\n",
       "      <td>2021-06-01 00:04:00</td>\n",
       "      <td>0</td>\n",
       "      <td>1</td>\n",
       "      <td>0</td>\n",
       "    </tr>\n",
       "  </tbody>\n",
       "</table>\n",
       "</div>"
      ]
     },
     "metadata": {},
     "execution_count": 72
    }
   ],
   "metadata": {}
  },
  {
   "cell_type": "code",
   "execution_count": 73,
   "source": [
    "### Formatting data\n",
    "df['min']=df['min'].astype(str) \n",
    "df['Weekday']=df['Weekday'].astype(str) \n",
    "df['Agency']=df['Agency'].astype(str) \n",
    "dp = df[df.tid%5==0]\n",
    "dp.loc[:, 'tid'] = dp['tid']//5\n",
    "dp.head()\n",
    "carpark_data_uni = dp\n",
    "carpark_data_HDB = dp[dp.Agency == '1']\n",
    "carpark_data_non_HDB = dp[dp.Agency != '1']"
   ],
   "outputs": [],
   "metadata": {}
  },
  {
   "cell_type": "code",
   "execution_count": 74,
   "source": [
    "dp.head()"
   ],
   "outputs": [
    {
     "output_type": "execute_result",
     "data": {
      "text/plain": [
       "    sid  tid  AvailableLots                 date min Weekday Agency\n",
       "0     0    0         2797.0  2021-06-01 00:00:00   0       1      0\n",
       "5     0    1         2799.0  2021-06-01 00:05:00   1       1      0\n",
       "10    0    2         2803.0  2021-06-01 00:10:00   2       1      0\n",
       "15    0    3         2805.0  2021-06-01 00:15:00   3       1      0\n",
       "20    0    4         2804.0  2021-06-01 00:20:00   4       1      0"
      ],
      "text/html": [
       "<div>\n",
       "<style scoped>\n",
       "    .dataframe tbody tr th:only-of-type {\n",
       "        vertical-align: middle;\n",
       "    }\n",
       "\n",
       "    .dataframe tbody tr th {\n",
       "        vertical-align: top;\n",
       "    }\n",
       "\n",
       "    .dataframe thead th {\n",
       "        text-align: right;\n",
       "    }\n",
       "</style>\n",
       "<table border=\"1\" class=\"dataframe\">\n",
       "  <thead>\n",
       "    <tr style=\"text-align: right;\">\n",
       "      <th></th>\n",
       "      <th>sid</th>\n",
       "      <th>tid</th>\n",
       "      <th>AvailableLots</th>\n",
       "      <th>date</th>\n",
       "      <th>min</th>\n",
       "      <th>Weekday</th>\n",
       "      <th>Agency</th>\n",
       "    </tr>\n",
       "  </thead>\n",
       "  <tbody>\n",
       "    <tr>\n",
       "      <th>0</th>\n",
       "      <td>0</td>\n",
       "      <td>0</td>\n",
       "      <td>2797.0</td>\n",
       "      <td>2021-06-01 00:00:00</td>\n",
       "      <td>0</td>\n",
       "      <td>1</td>\n",
       "      <td>0</td>\n",
       "    </tr>\n",
       "    <tr>\n",
       "      <th>5</th>\n",
       "      <td>0</td>\n",
       "      <td>1</td>\n",
       "      <td>2799.0</td>\n",
       "      <td>2021-06-01 00:05:00</td>\n",
       "      <td>1</td>\n",
       "      <td>1</td>\n",
       "      <td>0</td>\n",
       "    </tr>\n",
       "    <tr>\n",
       "      <th>10</th>\n",
       "      <td>0</td>\n",
       "      <td>2</td>\n",
       "      <td>2803.0</td>\n",
       "      <td>2021-06-01 00:10:00</td>\n",
       "      <td>2</td>\n",
       "      <td>1</td>\n",
       "      <td>0</td>\n",
       "    </tr>\n",
       "    <tr>\n",
       "      <th>15</th>\n",
       "      <td>0</td>\n",
       "      <td>3</td>\n",
       "      <td>2805.0</td>\n",
       "      <td>2021-06-01 00:15:00</td>\n",
       "      <td>3</td>\n",
       "      <td>1</td>\n",
       "      <td>0</td>\n",
       "    </tr>\n",
       "    <tr>\n",
       "      <th>20</th>\n",
       "      <td>0</td>\n",
       "      <td>4</td>\n",
       "      <td>2804.0</td>\n",
       "      <td>2021-06-01 00:20:00</td>\n",
       "      <td>4</td>\n",
       "      <td>1</td>\n",
       "      <td>0</td>\n",
       "    </tr>\n",
       "  </tbody>\n",
       "</table>\n",
       "</div>"
      ]
     },
     "metadata": {},
     "execution_count": 74
    }
   ],
   "metadata": {}
  },
  {
   "cell_type": "code",
   "execution_count": 75,
   "source": [
    "time_step = 100 ### 100*5mins = 500 mins = 8:20 in the morning\n",
    "day_step = 1 ### The second day\n",
    "T = time_step+288*day_step ### Setting the time as the prediction starting time(should longer than 12 hours total)\n",
    "carpark_data_T = carpark_data_uni[carpark_data_uni.tid<=T]"
   ],
   "outputs": [],
   "metadata": {}
  },
  {
   "cell_type": "code",
   "execution_count": 76,
   "source": [
    "carpark_data_T = carpark_data_T[(carpark_data_T.tid>= T-289)& (carpark_data_T.tid<=T)]\n",
    "carpark_data_T['tid']= carpark_data_T['tid'].map(lambda x: x-T+289)"
   ],
   "outputs": [],
   "metadata": {}
  },
  {
   "cell_type": "code",
   "execution_count": 77,
   "source": [
    "### Create filling window\n",
    "tid_start=len(carpark_data_T.tid.unique())\n",
    "\n",
    "tid_end=tid_start+23\n",
    "sid_start=0\n",
    "sid_end=len(carpark_data_T.sid.unique())-1\n",
    "date_info=carpark_data_T.iloc[tid_start-1].at['date']\n",
    "carpark_data_c=carpark_data_T.copy()\n",
    "\n",
    "date_data=pd.date_range(date_info, periods=25, freq='5T')[1:]\n",
    "sid_list=range(len(carpark_data_T.sid.unique()))"
   ],
   "outputs": [],
   "metadata": {}
  },
  {
   "cell_type": "code",
   "execution_count": 78,
   "source": [
    "# carpark_data_T[carpark_data_T.sid ==0].Agency[0]\n",
    "# carpark_data_T[(carpark_data_T.sid ==0) & (carpark_data_T.tid == T)].Weekday.values"
   ],
   "outputs": [],
   "metadata": {}
  },
  {
   "cell_type": "code",
   "execution_count": 79,
   "source": [
    "for x in carpark_data_T.sid.unique():\n",
    "    data={\"sid\":[x]*24,\"tid\":range(tid_start, tid_end+1),\"AvailableLots\":[0]*24, 'date':date_data, 'Weekday': carpark_data_T[(carpark_data_T.sid ==x) & (carpark_data_T.tid == 289)].Weekday.values, 'Agency': carpark_data_T[(carpark_data_T.sid ==x) & (carpark_data_T.tid == 289)].Agency.values}\n",
    "    df=pd.DataFrame(data,index=range(24))\n",
    "    df[\"min\"] = (df.tid % 288).astype(str)\n",
    "    frames = [carpark_data_c, df]\n",
    "    carpark_data_c = pd.concat(frames)"
   ],
   "outputs": [],
   "metadata": {}
  },
  {
   "cell_type": "code",
   "execution_count": 80,
   "source": [
    "carpark_data_c=carpark_data_c.reset_index(drop=True)"
   ],
   "outputs": [],
   "metadata": {}
  },
  {
   "cell_type": "code",
   "execution_count": 81,
   "source": [
    "carpark_data_c[carpark_data_c.sid == 0 ]"
   ],
   "outputs": [
    {
     "output_type": "execute_result",
     "data": {
      "text/plain": [
       "        sid  tid  AvailableLots                 date  min Weekday Agency\n",
       "0         0    0         1542.0  2021-06-01 08:15:00   99       1      0\n",
       "1         0    1         1537.0  2021-06-01 08:20:00  100       1      0\n",
       "2         0    2         1530.0  2021-06-01 08:25:00  101       1      0\n",
       "3         0    3         1533.0  2021-06-01 08:30:00  102       1      0\n",
       "4         0    4         1536.0  2021-06-01 08:35:00  103       1      0\n",
       "...     ...  ...            ...                  ...  ...     ...    ...\n",
       "534489    0  309            0.0  2021-06-02 10:00:00   21       2      0\n",
       "534490    0  310            0.0  2021-06-02 10:05:00   22       2      0\n",
       "534491    0  311            0.0  2021-06-02 10:10:00   23       2      0\n",
       "534492    0  312            0.0  2021-06-02 10:15:00   24       2      0\n",
       "534493    0  313            0.0  2021-06-02 10:20:00   25       2      0\n",
       "\n",
       "[314 rows x 7 columns]"
      ],
      "text/html": [
       "<div>\n",
       "<style scoped>\n",
       "    .dataframe tbody tr th:only-of-type {\n",
       "        vertical-align: middle;\n",
       "    }\n",
       "\n",
       "    .dataframe tbody tr th {\n",
       "        vertical-align: top;\n",
       "    }\n",
       "\n",
       "    .dataframe thead th {\n",
       "        text-align: right;\n",
       "    }\n",
       "</style>\n",
       "<table border=\"1\" class=\"dataframe\">\n",
       "  <thead>\n",
       "    <tr style=\"text-align: right;\">\n",
       "      <th></th>\n",
       "      <th>sid</th>\n",
       "      <th>tid</th>\n",
       "      <th>AvailableLots</th>\n",
       "      <th>date</th>\n",
       "      <th>min</th>\n",
       "      <th>Weekday</th>\n",
       "      <th>Agency</th>\n",
       "    </tr>\n",
       "  </thead>\n",
       "  <tbody>\n",
       "    <tr>\n",
       "      <th>0</th>\n",
       "      <td>0</td>\n",
       "      <td>0</td>\n",
       "      <td>1542.0</td>\n",
       "      <td>2021-06-01 08:15:00</td>\n",
       "      <td>99</td>\n",
       "      <td>1</td>\n",
       "      <td>0</td>\n",
       "    </tr>\n",
       "    <tr>\n",
       "      <th>1</th>\n",
       "      <td>0</td>\n",
       "      <td>1</td>\n",
       "      <td>1537.0</td>\n",
       "      <td>2021-06-01 08:20:00</td>\n",
       "      <td>100</td>\n",
       "      <td>1</td>\n",
       "      <td>0</td>\n",
       "    </tr>\n",
       "    <tr>\n",
       "      <th>2</th>\n",
       "      <td>0</td>\n",
       "      <td>2</td>\n",
       "      <td>1530.0</td>\n",
       "      <td>2021-06-01 08:25:00</td>\n",
       "      <td>101</td>\n",
       "      <td>1</td>\n",
       "      <td>0</td>\n",
       "    </tr>\n",
       "    <tr>\n",
       "      <th>3</th>\n",
       "      <td>0</td>\n",
       "      <td>3</td>\n",
       "      <td>1533.0</td>\n",
       "      <td>2021-06-01 08:30:00</td>\n",
       "      <td>102</td>\n",
       "      <td>1</td>\n",
       "      <td>0</td>\n",
       "    </tr>\n",
       "    <tr>\n",
       "      <th>4</th>\n",
       "      <td>0</td>\n",
       "      <td>4</td>\n",
       "      <td>1536.0</td>\n",
       "      <td>2021-06-01 08:35:00</td>\n",
       "      <td>103</td>\n",
       "      <td>1</td>\n",
       "      <td>0</td>\n",
       "    </tr>\n",
       "    <tr>\n",
       "      <th>...</th>\n",
       "      <td>...</td>\n",
       "      <td>...</td>\n",
       "      <td>...</td>\n",
       "      <td>...</td>\n",
       "      <td>...</td>\n",
       "      <td>...</td>\n",
       "      <td>...</td>\n",
       "    </tr>\n",
       "    <tr>\n",
       "      <th>534489</th>\n",
       "      <td>0</td>\n",
       "      <td>309</td>\n",
       "      <td>0.0</td>\n",
       "      <td>2021-06-02 10:00:00</td>\n",
       "      <td>21</td>\n",
       "      <td>2</td>\n",
       "      <td>0</td>\n",
       "    </tr>\n",
       "    <tr>\n",
       "      <th>534490</th>\n",
       "      <td>0</td>\n",
       "      <td>310</td>\n",
       "      <td>0.0</td>\n",
       "      <td>2021-06-02 10:05:00</td>\n",
       "      <td>22</td>\n",
       "      <td>2</td>\n",
       "      <td>0</td>\n",
       "    </tr>\n",
       "    <tr>\n",
       "      <th>534491</th>\n",
       "      <td>0</td>\n",
       "      <td>311</td>\n",
       "      <td>0.0</td>\n",
       "      <td>2021-06-02 10:10:00</td>\n",
       "      <td>23</td>\n",
       "      <td>2</td>\n",
       "      <td>0</td>\n",
       "    </tr>\n",
       "    <tr>\n",
       "      <th>534492</th>\n",
       "      <td>0</td>\n",
       "      <td>312</td>\n",
       "      <td>0.0</td>\n",
       "      <td>2021-06-02 10:15:00</td>\n",
       "      <td>24</td>\n",
       "      <td>2</td>\n",
       "      <td>0</td>\n",
       "    </tr>\n",
       "    <tr>\n",
       "      <th>534493</th>\n",
       "      <td>0</td>\n",
       "      <td>313</td>\n",
       "      <td>0.0</td>\n",
       "      <td>2021-06-02 10:20:00</td>\n",
       "      <td>25</td>\n",
       "      <td>2</td>\n",
       "      <td>0</td>\n",
       "    </tr>\n",
       "  </tbody>\n",
       "</table>\n",
       "<p>314 rows × 7 columns</p>\n",
       "</div>"
      ]
     },
     "metadata": {},
     "execution_count": 81
    }
   ],
   "metadata": {}
  },
  {
   "cell_type": "code",
   "execution_count": 82,
   "source": [
    "print(carpark_data_c[carpark_data_c.tid==0])"
   ],
   "outputs": [
    {
     "output_type": "stream",
     "name": "stdout",
     "text": [
      "         sid  tid  AvailableLots                 date min Weekday Agency\n",
      "0          0    0         1542.0  2021-06-01 08:15:00  99       1      0\n",
      "290        1    0         1855.0  2021-06-01 08:15:00  99       1      0\n",
      "580        2    0          705.0  2021-06-01 08:15:00  99       1      0\n",
      "870        3    0         1201.0  2021-06-01 08:15:00  99       1      0\n",
      "1160       4    0          140.0  2021-06-01 08:15:00  99       1      0\n",
      "...      ...  ...            ...                  ...  ..     ...    ...\n",
      "533020  1913    0           90.0  2021-06-01 08:15:00  99       1      1\n",
      "533310  1914    0          220.0  2021-06-01 08:15:00  99       1      1\n",
      "533600  1915    0          150.0  2021-06-01 08:15:00  99       1      1\n",
      "533890  1916    0           81.0  2021-06-01 08:15:00  99       1      0\n",
      "534180  1917    0          481.0  2021-06-01 08:15:00  99       1      0\n",
      "\n",
      "[1843 rows x 7 columns]\n"
     ]
    }
   ],
   "metadata": {}
  },
  {
   "cell_type": "code",
   "execution_count": 83,
   "source": [
    "context_length = 12*12\n",
    "prediction_length = 2*12\n",
    "\n",
    "test = TimeSeriesDataSet(\n",
    "    carpark_data_c,\n",
    "    time_idx=\"tid\",\n",
    "    group_ids=[\"sid\"],\n",
    "    target=\"AvailableLots\",\n",
    "    time_varying_unknown_reals=[\"AvailableLots\"],\n",
    "    max_encoder_length=context_length,\n",
    "    max_prediction_length=prediction_length,\n",
    "    static_categoricals = [\"Agency\"],\n",
    "    time_varying_known_categoricals=[\"min\", \"Weekday\"],\n",
    "    allow_missings=True,\n",
    "    predict_mode=True\n",
    ")"
   ],
   "outputs": [],
   "metadata": {}
  },
  {
   "cell_type": "code",
   "execution_count": 84,
   "source": [
    "real_prediction=best_model.predict(test, batch_size=500, show_progress_bar=True)"
   ],
   "outputs": [
    {
     "output_type": "display_data",
     "data": {
      "text/plain": [
       "Predict:   0%|          | 0/4 [00:00<?, ? batches/s]"
      ],
      "application/vnd.jupyter.widget-view+json": {
       "version_major": 2,
       "version_minor": 0,
       "model_id": "f2a22d3a616a426c8005d173ed6a8880"
      }
     },
     "metadata": {}
    }
   ],
   "metadata": {}
  },
  {
   "cell_type": "code",
   "execution_count": 85,
   "source": [
    "len(carpark_data_uni.sid.unique())"
   ],
   "outputs": [
    {
     "output_type": "execute_result",
     "data": {
      "text/plain": [
       "1843"
      ]
     },
     "metadata": {},
     "execution_count": 85
    }
   ],
   "metadata": {}
  },
  {
   "cell_type": "code",
   "execution_count": 86,
   "source": [
    "# Predict the carpark lots using form [ID, 0 min : 30 mins]\n",
    "# Here predicting carpark ID = 523 for future 30 minutes\n",
    "carparkid = 523\n",
    "real_prediction[carparkid,0:6]"
   ],
   "outputs": [
    {
     "output_type": "execute_result",
     "data": {
      "text/plain": [
       "tensor([332.9641, 334.4426, 335.1032, 334.7794, 335.4297, 334.9039])"
      ]
     },
     "metadata": {},
     "execution_count": 86
    }
   ],
   "metadata": {}
  },
  {
   "cell_type": "code",
   "execution_count": 87,
   "source": [
    "carparkid = carpark_data_uni.sid.unique()[carparkid]"
   ],
   "outputs": [],
   "metadata": {}
  },
  {
   "cell_type": "code",
   "execution_count": 88,
   "source": [
    "carpark_data_uni[(carpark_data_uni.sid == carparkid) & (carpark_data_uni.tid <=T +6) & (carpark_data_uni.tid>= T)] "
   ],
   "outputs": [
    {
     "output_type": "execute_result",
     "data": {
      "text/plain": [
       "          sid  tid  AvailableLots                 date  min Weekday Agency\n",
       "15817460  537  388          334.0  2021-06-02 08:20:00  100       2      1\n",
       "15817465  537  389          334.0  2021-06-02 08:25:00  101       2      1\n",
       "15817470  537  390          334.0  2021-06-02 08:30:00  102       2      1\n",
       "15817475  537  391          334.0  2021-06-02 08:35:00  103       2      1\n",
       "15817480  537  392          334.0  2021-06-02 08:40:00  104       2      1\n",
       "15817485  537  393          334.0  2021-06-02 08:45:00  105       2      1\n",
       "15817490  537  394          340.0  2021-06-02 08:50:00  106       2      1"
      ],
      "text/html": [
       "<div>\n",
       "<style scoped>\n",
       "    .dataframe tbody tr th:only-of-type {\n",
       "        vertical-align: middle;\n",
       "    }\n",
       "\n",
       "    .dataframe tbody tr th {\n",
       "        vertical-align: top;\n",
       "    }\n",
       "\n",
       "    .dataframe thead th {\n",
       "        text-align: right;\n",
       "    }\n",
       "</style>\n",
       "<table border=\"1\" class=\"dataframe\">\n",
       "  <thead>\n",
       "    <tr style=\"text-align: right;\">\n",
       "      <th></th>\n",
       "      <th>sid</th>\n",
       "      <th>tid</th>\n",
       "      <th>AvailableLots</th>\n",
       "      <th>date</th>\n",
       "      <th>min</th>\n",
       "      <th>Weekday</th>\n",
       "      <th>Agency</th>\n",
       "    </tr>\n",
       "  </thead>\n",
       "  <tbody>\n",
       "    <tr>\n",
       "      <th>15817460</th>\n",
       "      <td>537</td>\n",
       "      <td>388</td>\n",
       "      <td>334.0</td>\n",
       "      <td>2021-06-02 08:20:00</td>\n",
       "      <td>100</td>\n",
       "      <td>2</td>\n",
       "      <td>1</td>\n",
       "    </tr>\n",
       "    <tr>\n",
       "      <th>15817465</th>\n",
       "      <td>537</td>\n",
       "      <td>389</td>\n",
       "      <td>334.0</td>\n",
       "      <td>2021-06-02 08:25:00</td>\n",
       "      <td>101</td>\n",
       "      <td>2</td>\n",
       "      <td>1</td>\n",
       "    </tr>\n",
       "    <tr>\n",
       "      <th>15817470</th>\n",
       "      <td>537</td>\n",
       "      <td>390</td>\n",
       "      <td>334.0</td>\n",
       "      <td>2021-06-02 08:30:00</td>\n",
       "      <td>102</td>\n",
       "      <td>2</td>\n",
       "      <td>1</td>\n",
       "    </tr>\n",
       "    <tr>\n",
       "      <th>15817475</th>\n",
       "      <td>537</td>\n",
       "      <td>391</td>\n",
       "      <td>334.0</td>\n",
       "      <td>2021-06-02 08:35:00</td>\n",
       "      <td>103</td>\n",
       "      <td>2</td>\n",
       "      <td>1</td>\n",
       "    </tr>\n",
       "    <tr>\n",
       "      <th>15817480</th>\n",
       "      <td>537</td>\n",
       "      <td>392</td>\n",
       "      <td>334.0</td>\n",
       "      <td>2021-06-02 08:40:00</td>\n",
       "      <td>104</td>\n",
       "      <td>2</td>\n",
       "      <td>1</td>\n",
       "    </tr>\n",
       "    <tr>\n",
       "      <th>15817485</th>\n",
       "      <td>537</td>\n",
       "      <td>393</td>\n",
       "      <td>334.0</td>\n",
       "      <td>2021-06-02 08:45:00</td>\n",
       "      <td>105</td>\n",
       "      <td>2</td>\n",
       "      <td>1</td>\n",
       "    </tr>\n",
       "    <tr>\n",
       "      <th>15817490</th>\n",
       "      <td>537</td>\n",
       "      <td>394</td>\n",
       "      <td>340.0</td>\n",
       "      <td>2021-06-02 08:50:00</td>\n",
       "      <td>106</td>\n",
       "      <td>2</td>\n",
       "      <td>1</td>\n",
       "    </tr>\n",
       "  </tbody>\n",
       "</table>\n",
       "</div>"
      ]
     },
     "metadata": {},
     "execution_count": 88
    }
   ],
   "metadata": {}
  },
  {
   "cell_type": "code",
   "execution_count": 89,
   "source": [
    "### Calculating carpark maximum valume\n",
    "maxlots = carpark_data_uni['AvailableLots'].groupby(carpark_data_uni['sid'])\n",
    "carpark_data_uni = pd.merge(carpark_data_uni, maxlots.max(), how = 'left', on = 'sid')\n",
    "carpark_data_uni.rename(columns = {\"AvailableLots_x\": \"AvailableLots\", \"AvailableLots_y\": \"MaxLots\"}, inplace = True)\n",
    "carpark_data_uni['Difficulty'] = carpark_data_uni.AvailableLots/carpark_data_uni.MaxLots//0.15"
   ],
   "outputs": [],
   "metadata": {}
  },
  {
   "cell_type": "code",
   "execution_count": 90,
   "source": [
    "carpark_data_uni['Difficulty'] = carpark_data_uni.Difficulty.map(lambda x: 2 if x >=2 else x)\n",
    "carpark_data_uni['Difficulty'] = carpark_data_uni.Difficulty.map(lambda x: 0 if x <0 else x)\n",
    "carpark_data_uni.head()"
   ],
   "outputs": [
    {
     "output_type": "execute_result",
     "data": {
      "text/plain": [
       "   sid  tid  AvailableLots                 date min Weekday Agency  MaxLots  \\\n",
       "0    0    0         2797.0  2021-06-01 00:00:00   0       1      0   2849.0   \n",
       "1    0    1         2799.0  2021-06-01 00:05:00   1       1      0   2849.0   \n",
       "2    0    2         2803.0  2021-06-01 00:10:00   2       1      0   2849.0   \n",
       "3    0    3         2805.0  2021-06-01 00:15:00   3       1      0   2849.0   \n",
       "4    0    4         2804.0  2021-06-01 00:20:00   4       1      0   2849.0   \n",
       "\n",
       "   Difficulty  \n",
       "0         2.0  \n",
       "1         2.0  \n",
       "2         2.0  \n",
       "3         2.0  \n",
       "4         2.0  "
      ],
      "text/html": [
       "<div>\n",
       "<style scoped>\n",
       "    .dataframe tbody tr th:only-of-type {\n",
       "        vertical-align: middle;\n",
       "    }\n",
       "\n",
       "    .dataframe tbody tr th {\n",
       "        vertical-align: top;\n",
       "    }\n",
       "\n",
       "    .dataframe thead th {\n",
       "        text-align: right;\n",
       "    }\n",
       "</style>\n",
       "<table border=\"1\" class=\"dataframe\">\n",
       "  <thead>\n",
       "    <tr style=\"text-align: right;\">\n",
       "      <th></th>\n",
       "      <th>sid</th>\n",
       "      <th>tid</th>\n",
       "      <th>AvailableLots</th>\n",
       "      <th>date</th>\n",
       "      <th>min</th>\n",
       "      <th>Weekday</th>\n",
       "      <th>Agency</th>\n",
       "      <th>MaxLots</th>\n",
       "      <th>Difficulty</th>\n",
       "    </tr>\n",
       "  </thead>\n",
       "  <tbody>\n",
       "    <tr>\n",
       "      <th>0</th>\n",
       "      <td>0</td>\n",
       "      <td>0</td>\n",
       "      <td>2797.0</td>\n",
       "      <td>2021-06-01 00:00:00</td>\n",
       "      <td>0</td>\n",
       "      <td>1</td>\n",
       "      <td>0</td>\n",
       "      <td>2849.0</td>\n",
       "      <td>2.0</td>\n",
       "    </tr>\n",
       "    <tr>\n",
       "      <th>1</th>\n",
       "      <td>0</td>\n",
       "      <td>1</td>\n",
       "      <td>2799.0</td>\n",
       "      <td>2021-06-01 00:05:00</td>\n",
       "      <td>1</td>\n",
       "      <td>1</td>\n",
       "      <td>0</td>\n",
       "      <td>2849.0</td>\n",
       "      <td>2.0</td>\n",
       "    </tr>\n",
       "    <tr>\n",
       "      <th>2</th>\n",
       "      <td>0</td>\n",
       "      <td>2</td>\n",
       "      <td>2803.0</td>\n",
       "      <td>2021-06-01 00:10:00</td>\n",
       "      <td>2</td>\n",
       "      <td>1</td>\n",
       "      <td>0</td>\n",
       "      <td>2849.0</td>\n",
       "      <td>2.0</td>\n",
       "    </tr>\n",
       "    <tr>\n",
       "      <th>3</th>\n",
       "      <td>0</td>\n",
       "      <td>3</td>\n",
       "      <td>2805.0</td>\n",
       "      <td>2021-06-01 00:15:00</td>\n",
       "      <td>3</td>\n",
       "      <td>1</td>\n",
       "      <td>0</td>\n",
       "      <td>2849.0</td>\n",
       "      <td>2.0</td>\n",
       "    </tr>\n",
       "    <tr>\n",
       "      <th>4</th>\n",
       "      <td>0</td>\n",
       "      <td>4</td>\n",
       "      <td>2804.0</td>\n",
       "      <td>2021-06-01 00:20:00</td>\n",
       "      <td>4</td>\n",
       "      <td>1</td>\n",
       "      <td>0</td>\n",
       "      <td>2849.0</td>\n",
       "      <td>2.0</td>\n",
       "    </tr>\n",
       "  </tbody>\n",
       "</table>\n",
       "</div>"
      ]
     },
     "metadata": {},
     "execution_count": 90
    }
   ],
   "metadata": {}
  },
  {
   "cell_type": "code",
   "execution_count": 91,
   "source": [
    "carpark_data_uni[(carpark_data_uni.sid == carparkid) & (carpark_data_uni.tid <=T +6) & (carpark_data_uni.tid>= T)] "
   ],
   "outputs": [
    {
     "output_type": "execute_result",
     "data": {
      "text/plain": [
       "         sid  tid  AvailableLots                 date  min Weekday Agency  \\\n",
       "3163492  537  388          334.0  2021-06-02 08:20:00  100       2      1   \n",
       "3163493  537  389          334.0  2021-06-02 08:25:00  101       2      1   \n",
       "3163494  537  390          334.0  2021-06-02 08:30:00  102       2      1   \n",
       "3163495  537  391          334.0  2021-06-02 08:35:00  103       2      1   \n",
       "3163496  537  392          334.0  2021-06-02 08:40:00  104       2      1   \n",
       "3163497  537  393          334.0  2021-06-02 08:45:00  105       2      1   \n",
       "3163498  537  394          340.0  2021-06-02 08:50:00  106       2      1   \n",
       "\n",
       "         MaxLots  Difficulty  \n",
       "3163492    371.0         2.0  \n",
       "3163493    371.0         2.0  \n",
       "3163494    371.0         2.0  \n",
       "3163495    371.0         2.0  \n",
       "3163496    371.0         2.0  \n",
       "3163497    371.0         2.0  \n",
       "3163498    371.0         2.0  "
      ],
      "text/html": [
       "<div>\n",
       "<style scoped>\n",
       "    .dataframe tbody tr th:only-of-type {\n",
       "        vertical-align: middle;\n",
       "    }\n",
       "\n",
       "    .dataframe tbody tr th {\n",
       "        vertical-align: top;\n",
       "    }\n",
       "\n",
       "    .dataframe thead th {\n",
       "        text-align: right;\n",
       "    }\n",
       "</style>\n",
       "<table border=\"1\" class=\"dataframe\">\n",
       "  <thead>\n",
       "    <tr style=\"text-align: right;\">\n",
       "      <th></th>\n",
       "      <th>sid</th>\n",
       "      <th>tid</th>\n",
       "      <th>AvailableLots</th>\n",
       "      <th>date</th>\n",
       "      <th>min</th>\n",
       "      <th>Weekday</th>\n",
       "      <th>Agency</th>\n",
       "      <th>MaxLots</th>\n",
       "      <th>Difficulty</th>\n",
       "    </tr>\n",
       "  </thead>\n",
       "  <tbody>\n",
       "    <tr>\n",
       "      <th>3163492</th>\n",
       "      <td>537</td>\n",
       "      <td>388</td>\n",
       "      <td>334.0</td>\n",
       "      <td>2021-06-02 08:20:00</td>\n",
       "      <td>100</td>\n",
       "      <td>2</td>\n",
       "      <td>1</td>\n",
       "      <td>371.0</td>\n",
       "      <td>2.0</td>\n",
       "    </tr>\n",
       "    <tr>\n",
       "      <th>3163493</th>\n",
       "      <td>537</td>\n",
       "      <td>389</td>\n",
       "      <td>334.0</td>\n",
       "      <td>2021-06-02 08:25:00</td>\n",
       "      <td>101</td>\n",
       "      <td>2</td>\n",
       "      <td>1</td>\n",
       "      <td>371.0</td>\n",
       "      <td>2.0</td>\n",
       "    </tr>\n",
       "    <tr>\n",
       "      <th>3163494</th>\n",
       "      <td>537</td>\n",
       "      <td>390</td>\n",
       "      <td>334.0</td>\n",
       "      <td>2021-06-02 08:30:00</td>\n",
       "      <td>102</td>\n",
       "      <td>2</td>\n",
       "      <td>1</td>\n",
       "      <td>371.0</td>\n",
       "      <td>2.0</td>\n",
       "    </tr>\n",
       "    <tr>\n",
       "      <th>3163495</th>\n",
       "      <td>537</td>\n",
       "      <td>391</td>\n",
       "      <td>334.0</td>\n",
       "      <td>2021-06-02 08:35:00</td>\n",
       "      <td>103</td>\n",
       "      <td>2</td>\n",
       "      <td>1</td>\n",
       "      <td>371.0</td>\n",
       "      <td>2.0</td>\n",
       "    </tr>\n",
       "    <tr>\n",
       "      <th>3163496</th>\n",
       "      <td>537</td>\n",
       "      <td>392</td>\n",
       "      <td>334.0</td>\n",
       "      <td>2021-06-02 08:40:00</td>\n",
       "      <td>104</td>\n",
       "      <td>2</td>\n",
       "      <td>1</td>\n",
       "      <td>371.0</td>\n",
       "      <td>2.0</td>\n",
       "    </tr>\n",
       "    <tr>\n",
       "      <th>3163497</th>\n",
       "      <td>537</td>\n",
       "      <td>393</td>\n",
       "      <td>334.0</td>\n",
       "      <td>2021-06-02 08:45:00</td>\n",
       "      <td>105</td>\n",
       "      <td>2</td>\n",
       "      <td>1</td>\n",
       "      <td>371.0</td>\n",
       "      <td>2.0</td>\n",
       "    </tr>\n",
       "    <tr>\n",
       "      <th>3163498</th>\n",
       "      <td>537</td>\n",
       "      <td>394</td>\n",
       "      <td>340.0</td>\n",
       "      <td>2021-06-02 08:50:00</td>\n",
       "      <td>106</td>\n",
       "      <td>2</td>\n",
       "      <td>1</td>\n",
       "      <td>371.0</td>\n",
       "      <td>2.0</td>\n",
       "    </tr>\n",
       "  </tbody>\n",
       "</table>\n",
       "</div>"
      ]
     },
     "metadata": {},
     "execution_count": 91
    }
   ],
   "metadata": {}
  },
  {
   "cell_type": "code",
   "execution_count": 92,
   "source": [
    "### True parking difficulty\n",
    "df_o = carpark_data_uni[(carpark_data_uni.tid <=T +6) & (carpark_data_uni.tid>= T)] \n",
    "True_diffi = []\n",
    "for x in carpark_data_uni.sid.unique():\n",
    "    a = df_o[(df_o.tid==T+6)&(df_o.sid ==x)].Difficulty.values\n",
    "    True_diffi.append(a)\n",
    "\n",
    "print(len(True_diffi))"
   ],
   "outputs": [
    {
     "output_type": "stream",
     "name": "stdout",
     "text": [
      "1843\n"
     ]
    }
   ],
   "metadata": {}
  },
  {
   "cell_type": "code",
   "execution_count": 93,
   "source": [
    "### Predicted parking difficulty\n",
    "pred_30 = real_prediction[:,6]\n",
    "pred_30_diffi = pred_30/maxlots.max()//0.15\n",
    "a = pred_30_diffi.map(lambda x: 2 if x >=2 else x)\n",
    "b = a.map(lambda x: 0 if x <0 else x)\n",
    "pred_30_diffi = []\n",
    "for x in carpark_data_uni.sid.unique():\n",
    "    pred_30_diffi.append(b[x])"
   ],
   "outputs": [],
   "metadata": {}
  },
  {
   "cell_type": "code",
   "execution_count": 94,
   "source": [
    "Correct = 0\n",
    "for x in range(len(pred_30_diffi)):\n",
    "    if pred_30_diffi[x] == True_diffi[x]:\n",
    "        Correct += 1\n",
    "print(Correct, 'out of ', len(pred_30_diffi), 'parking lots predicted correct, precision rate is ', Correct/len(pred_30_diffi)*100, '%')"
   ],
   "outputs": [
    {
     "output_type": "stream",
     "name": "stdout",
     "text": [
      "1759 out of  1843 parking lots predicted correct, precision rate is  95.44221378187737 %\n"
     ]
    }
   ],
   "metadata": {}
  },
  {
   "cell_type": "code",
   "execution_count": 95,
   "source": [
    "# carpark_data_uni=carpark_data_uni.drop(['MaxLots','Difficulty'], axis=1)"
   ],
   "outputs": [],
   "metadata": {}
  },
  {
   "cell_type": "code",
   "execution_count": 96,
   "source": [
    "# xs = pd.date_range(\"2021-06-01\", periods=13)\n",
    "carpark_data_plot = carpark_data_uni[(carpark_data_uni.tid>=84)& (carpark_data_uni.tid <=264)]\n",
    "ts = carpark_data_plot[carpark_data_plot.sid == carparkid].set_index(\"date\")[\"AvailableLots\"]\n",
    "ts.plot(figsize=(24, 4), style=\".-\")\n",
    "# for x in xs:\n",
    "#     plt.axvline(x=x, linestyle='--', color=\"m\")"
   ],
   "outputs": [
    {
     "output_type": "execute_result",
     "data": {
      "text/plain": [
       "<AxesSubplot:xlabel='date'>"
      ]
     },
     "metadata": {},
     "execution_count": 96
    },
    {
     "output_type": "display_data",
     "data": {
      "text/plain": [
       "<Figure size 1728x288 with 1 Axes>"
      ],
      "image/svg+xml": "<?xml version=\"1.0\" encoding=\"utf-8\" standalone=\"no\"?>\n<!DOCTYPE svg PUBLIC \"-//W3C//DTD SVG 1.1//EN\"\n  \"http://www.w3.org/Graphics/SVG/1.1/DTD/svg11.dtd\">\n<!-- Created with matplotlib (https://matplotlib.org/) -->\n<svg height=\"262.19625pt\" version=\"1.1\" viewBox=\"0 0 1379.6875 262.19625\" width=\"1379.6875pt\" xmlns=\"http://www.w3.org/2000/svg\" xmlns:xlink=\"http://www.w3.org/1999/xlink\">\n <metadata>\n  <rdf:RDF xmlns:cc=\"http://creativecommons.org/ns#\" xmlns:dc=\"http://purl.org/dc/elements/1.1/\" xmlns:rdf=\"http://www.w3.org/1999/02/22-rdf-syntax-ns#\">\n   <cc:Work>\n    <dc:type rdf:resource=\"http://purl.org/dc/dcmitype/StillImage\"/>\n    <dc:date>2021-09-13T07:51:36.898668</dc:date>\n    <dc:format>image/svg+xml</dc:format>\n    <dc:creator>\n     <cc:Agent>\n      <dc:title>Matplotlib v3.3.4, https://matplotlib.org/</dc:title>\n     </cc:Agent>\n    </dc:creator>\n   </cc:Work>\n  </rdf:RDF>\n </metadata>\n <defs>\n  <style type=\"text/css\">*{stroke-linecap:butt;stroke-linejoin:round;}</style>\n </defs>\n <g id=\"figure_1\">\n  <g id=\"patch_1\">\n   <path d=\"M 0 262.19625 \nL 1379.6875 262.19625 \nL 1379.6875 0 \nL 0 0 \nz\n\" style=\"fill:none;\"/>\n  </g>\n  <g id=\"axes_1\">\n   <g id=\"patch_2\">\n    <path d=\"M 33.2875 224.64 \nL 1372.4875 224.64 \nL 1372.4875 7.2 \nL 33.2875 7.2 \nz\n\" style=\"fill:#ffffff;\"/>\n   </g>\n   <g id=\"matplotlib.axis_1\">\n    <g id=\"xtick_1\">\n     <g id=\"line2d_1\">\n      <defs>\n       <path d=\"M 0 0 \nL 0 3.5 \n\" id=\"md195f63bfa\" style=\"stroke:#000000;stroke-width:0.8;\"/>\n      </defs>\n      <g>\n       <use style=\"stroke:#000000;stroke-width:0.8;\" x=\"94.160227\" xlink:href=\"#md195f63bfa\" y=\"224.64\"/>\n      </g>\n     </g>\n     <g id=\"text_1\">\n      <!-- 2021-06-01 07:00:00 -->\n      <g transform=\"translate(41.057102 239.238438)scale(0.1 -0.1)\">\n       <defs>\n        <path d=\"M 19.1875 8.296875 \nL 53.609375 8.296875 \nL 53.609375 0 \nL 7.328125 0 \nL 7.328125 8.296875 \nQ 12.9375 14.109375 22.625 23.890625 \nQ 32.328125 33.6875 34.8125 36.53125 \nQ 39.546875 41.84375 41.421875 45.53125 \nQ 43.3125 49.21875 43.3125 52.78125 \nQ 43.3125 58.59375 39.234375 62.25 \nQ 35.15625 65.921875 28.609375 65.921875 \nQ 23.96875 65.921875 18.8125 64.3125 \nQ 13.671875 62.703125 7.8125 59.421875 \nL 7.8125 69.390625 \nQ 13.765625 71.78125 18.9375 73 \nQ 24.125 74.21875 28.421875 74.21875 \nQ 39.75 74.21875 46.484375 68.546875 \nQ 53.21875 62.890625 53.21875 53.421875 \nQ 53.21875 48.921875 51.53125 44.890625 \nQ 49.859375 40.875 45.40625 35.40625 \nQ 44.1875 33.984375 37.640625 27.21875 \nQ 31.109375 20.453125 19.1875 8.296875 \nz\n\" id=\"DejaVuSans-50\"/>\n        <path d=\"M 31.78125 66.40625 \nQ 24.171875 66.40625 20.328125 58.90625 \nQ 16.5 51.421875 16.5 36.375 \nQ 16.5 21.390625 20.328125 13.890625 \nQ 24.171875 6.390625 31.78125 6.390625 \nQ 39.453125 6.390625 43.28125 13.890625 \nQ 47.125 21.390625 47.125 36.375 \nQ 47.125 51.421875 43.28125 58.90625 \nQ 39.453125 66.40625 31.78125 66.40625 \nz\nM 31.78125 74.21875 \nQ 44.046875 74.21875 50.515625 64.515625 \nQ 56.984375 54.828125 56.984375 36.375 \nQ 56.984375 17.96875 50.515625 8.265625 \nQ 44.046875 -1.421875 31.78125 -1.421875 \nQ 19.53125 -1.421875 13.0625 8.265625 \nQ 6.59375 17.96875 6.59375 36.375 \nQ 6.59375 54.828125 13.0625 64.515625 \nQ 19.53125 74.21875 31.78125 74.21875 \nz\n\" id=\"DejaVuSans-48\"/>\n        <path d=\"M 12.40625 8.296875 \nL 28.515625 8.296875 \nL 28.515625 63.921875 \nL 10.984375 60.40625 \nL 10.984375 69.390625 \nL 28.421875 72.90625 \nL 38.28125 72.90625 \nL 38.28125 8.296875 \nL 54.390625 8.296875 \nL 54.390625 0 \nL 12.40625 0 \nz\n\" id=\"DejaVuSans-49\"/>\n        <path d=\"M 4.890625 31.390625 \nL 31.203125 31.390625 \nL 31.203125 23.390625 \nL 4.890625 23.390625 \nz\n\" id=\"DejaVuSans-45\"/>\n        <path d=\"M 33.015625 40.375 \nQ 26.375 40.375 22.484375 35.828125 \nQ 18.609375 31.296875 18.609375 23.390625 \nQ 18.609375 15.53125 22.484375 10.953125 \nQ 26.375 6.390625 33.015625 6.390625 \nQ 39.65625 6.390625 43.53125 10.953125 \nQ 47.40625 15.53125 47.40625 23.390625 \nQ 47.40625 31.296875 43.53125 35.828125 \nQ 39.65625 40.375 33.015625 40.375 \nz\nM 52.59375 71.296875 \nL 52.59375 62.3125 \nQ 48.875 64.0625 45.09375 64.984375 \nQ 41.3125 65.921875 37.59375 65.921875 \nQ 27.828125 65.921875 22.671875 59.328125 \nQ 17.53125 52.734375 16.796875 39.40625 \nQ 19.671875 43.65625 24.015625 45.921875 \nQ 28.375 48.1875 33.59375 48.1875 \nQ 44.578125 48.1875 50.953125 41.515625 \nQ 57.328125 34.859375 57.328125 23.390625 \nQ 57.328125 12.15625 50.6875 5.359375 \nQ 44.046875 -1.421875 33.015625 -1.421875 \nQ 20.359375 -1.421875 13.671875 8.265625 \nQ 6.984375 17.96875 6.984375 36.375 \nQ 6.984375 53.65625 15.1875 63.9375 \nQ 23.390625 74.21875 37.203125 74.21875 \nQ 40.921875 74.21875 44.703125 73.484375 \nQ 48.484375 72.75 52.59375 71.296875 \nz\n\" id=\"DejaVuSans-54\"/>\n        <path id=\"DejaVuSans-32\"/>\n        <path d=\"M 8.203125 72.90625 \nL 55.078125 72.90625 \nL 55.078125 68.703125 \nL 28.609375 0 \nL 18.3125 0 \nL 43.21875 64.59375 \nL 8.203125 64.59375 \nz\n\" id=\"DejaVuSans-55\"/>\n        <path d=\"M 11.71875 12.40625 \nL 22.015625 12.40625 \nL 22.015625 0 \nL 11.71875 0 \nz\nM 11.71875 51.703125 \nL 22.015625 51.703125 \nL 22.015625 39.3125 \nL 11.71875 39.3125 \nz\n\" id=\"DejaVuSans-58\"/>\n       </defs>\n       <use xlink:href=\"#DejaVuSans-50\"/>\n       <use x=\"63.623047\" xlink:href=\"#DejaVuSans-48\"/>\n       <use x=\"127.246094\" xlink:href=\"#DejaVuSans-50\"/>\n       <use x=\"190.869141\" xlink:href=\"#DejaVuSans-49\"/>\n       <use x=\"254.492188\" xlink:href=\"#DejaVuSans-45\"/>\n       <use x=\"290.576172\" xlink:href=\"#DejaVuSans-48\"/>\n       <use x=\"354.199219\" xlink:href=\"#DejaVuSans-54\"/>\n       <use x=\"417.822266\" xlink:href=\"#DejaVuSans-45\"/>\n       <use x=\"453.90625\" xlink:href=\"#DejaVuSans-48\"/>\n       <use x=\"517.529297\" xlink:href=\"#DejaVuSans-49\"/>\n       <use x=\"581.152344\" xlink:href=\"#DejaVuSans-32\"/>\n       <use x=\"612.939453\" xlink:href=\"#DejaVuSans-48\"/>\n       <use x=\"676.5625\" xlink:href=\"#DejaVuSans-55\"/>\n       <use x=\"740.185547\" xlink:href=\"#DejaVuSans-58\"/>\n       <use x=\"773.876953\" xlink:href=\"#DejaVuSans-48\"/>\n       <use x=\"837.5\" xlink:href=\"#DejaVuSans-48\"/>\n       <use x=\"901.123047\" xlink:href=\"#DejaVuSans-58\"/>\n       <use x=\"934.814453\" xlink:href=\"#DejaVuSans-48\"/>\n       <use x=\"998.4375\" xlink:href=\"#DejaVuSans-48\"/>\n      </g>\n     </g>\n    </g>\n    <g id=\"xtick_2\">\n     <g id=\"line2d_2\">\n      <g>\n       <use style=\"stroke:#000000;stroke-width:0.8;\" x=\"263.251136\" xlink:href=\"#md195f63bfa\" y=\"224.64\"/>\n      </g>\n     </g>\n     <g id=\"text_2\">\n      <!-- 2021-06-01 09:05:00 -->\n      <g transform=\"translate(210.148011 239.238438)scale(0.1 -0.1)\">\n       <defs>\n        <path d=\"M 10.984375 1.515625 \nL 10.984375 10.5 \nQ 14.703125 8.734375 18.5 7.8125 \nQ 22.3125 6.890625 25.984375 6.890625 \nQ 35.75 6.890625 40.890625 13.453125 \nQ 46.046875 20.015625 46.78125 33.40625 \nQ 43.953125 29.203125 39.59375 26.953125 \nQ 35.25 24.703125 29.984375 24.703125 \nQ 19.046875 24.703125 12.671875 31.3125 \nQ 6.296875 37.9375 6.296875 49.421875 \nQ 6.296875 60.640625 12.9375 67.421875 \nQ 19.578125 74.21875 30.609375 74.21875 \nQ 43.265625 74.21875 49.921875 64.515625 \nQ 56.59375 54.828125 56.59375 36.375 \nQ 56.59375 19.140625 48.40625 8.859375 \nQ 40.234375 -1.421875 26.421875 -1.421875 \nQ 22.703125 -1.421875 18.890625 -0.6875 \nQ 15.09375 0.046875 10.984375 1.515625 \nz\nM 30.609375 32.421875 \nQ 37.25 32.421875 41.125 36.953125 \nQ 45.015625 41.5 45.015625 49.421875 \nQ 45.015625 57.28125 41.125 61.84375 \nQ 37.25 66.40625 30.609375 66.40625 \nQ 23.96875 66.40625 20.09375 61.84375 \nQ 16.21875 57.28125 16.21875 49.421875 \nQ 16.21875 41.5 20.09375 36.953125 \nQ 23.96875 32.421875 30.609375 32.421875 \nz\n\" id=\"DejaVuSans-57\"/>\n        <path d=\"M 10.796875 72.90625 \nL 49.515625 72.90625 \nL 49.515625 64.59375 \nL 19.828125 64.59375 \nL 19.828125 46.734375 \nQ 21.96875 47.46875 24.109375 47.828125 \nQ 26.265625 48.1875 28.421875 48.1875 \nQ 40.625 48.1875 47.75 41.5 \nQ 54.890625 34.8125 54.890625 23.390625 \nQ 54.890625 11.625 47.5625 5.09375 \nQ 40.234375 -1.421875 26.90625 -1.421875 \nQ 22.3125 -1.421875 17.546875 -0.640625 \nQ 12.796875 0.140625 7.71875 1.703125 \nL 7.71875 11.625 \nQ 12.109375 9.234375 16.796875 8.0625 \nQ 21.484375 6.890625 26.703125 6.890625 \nQ 35.15625 6.890625 40.078125 11.328125 \nQ 45.015625 15.765625 45.015625 23.390625 \nQ 45.015625 31 40.078125 35.4375 \nQ 35.15625 39.890625 26.703125 39.890625 \nQ 22.75 39.890625 18.8125 39.015625 \nQ 14.890625 38.140625 10.796875 36.28125 \nz\n\" id=\"DejaVuSans-53\"/>\n       </defs>\n       <use xlink:href=\"#DejaVuSans-50\"/>\n       <use x=\"63.623047\" xlink:href=\"#DejaVuSans-48\"/>\n       <use x=\"127.246094\" xlink:href=\"#DejaVuSans-50\"/>\n       <use x=\"190.869141\" xlink:href=\"#DejaVuSans-49\"/>\n       <use x=\"254.492188\" xlink:href=\"#DejaVuSans-45\"/>\n       <use x=\"290.576172\" xlink:href=\"#DejaVuSans-48\"/>\n       <use x=\"354.199219\" xlink:href=\"#DejaVuSans-54\"/>\n       <use x=\"417.822266\" xlink:href=\"#DejaVuSans-45\"/>\n       <use x=\"453.90625\" xlink:href=\"#DejaVuSans-48\"/>\n       <use x=\"517.529297\" xlink:href=\"#DejaVuSans-49\"/>\n       <use x=\"581.152344\" xlink:href=\"#DejaVuSans-32\"/>\n       <use x=\"612.939453\" xlink:href=\"#DejaVuSans-48\"/>\n       <use x=\"676.5625\" xlink:href=\"#DejaVuSans-57\"/>\n       <use x=\"740.185547\" xlink:href=\"#DejaVuSans-58\"/>\n       <use x=\"773.876953\" xlink:href=\"#DejaVuSans-48\"/>\n       <use x=\"837.5\" xlink:href=\"#DejaVuSans-53\"/>\n       <use x=\"901.123047\" xlink:href=\"#DejaVuSans-58\"/>\n       <use x=\"934.814453\" xlink:href=\"#DejaVuSans-48\"/>\n       <use x=\"998.4375\" xlink:href=\"#DejaVuSans-48\"/>\n      </g>\n     </g>\n    </g>\n    <g id=\"xtick_3\">\n     <g id=\"line2d_3\">\n      <g>\n       <use style=\"stroke:#000000;stroke-width:0.8;\" x=\"432.342045\" xlink:href=\"#md195f63bfa\" y=\"224.64\"/>\n      </g>\n     </g>\n     <g id=\"text_3\">\n      <!-- 2021-06-01 11:10:00 -->\n      <g transform=\"translate(379.23892 239.238438)scale(0.1 -0.1)\">\n       <use xlink:href=\"#DejaVuSans-50\"/>\n       <use x=\"63.623047\" xlink:href=\"#DejaVuSans-48\"/>\n       <use x=\"127.246094\" xlink:href=\"#DejaVuSans-50\"/>\n       <use x=\"190.869141\" xlink:href=\"#DejaVuSans-49\"/>\n       <use x=\"254.492188\" xlink:href=\"#DejaVuSans-45\"/>\n       <use x=\"290.576172\" xlink:href=\"#DejaVuSans-48\"/>\n       <use x=\"354.199219\" xlink:href=\"#DejaVuSans-54\"/>\n       <use x=\"417.822266\" xlink:href=\"#DejaVuSans-45\"/>\n       <use x=\"453.90625\" xlink:href=\"#DejaVuSans-48\"/>\n       <use x=\"517.529297\" xlink:href=\"#DejaVuSans-49\"/>\n       <use x=\"581.152344\" xlink:href=\"#DejaVuSans-32\"/>\n       <use x=\"612.939453\" xlink:href=\"#DejaVuSans-49\"/>\n       <use x=\"676.5625\" xlink:href=\"#DejaVuSans-49\"/>\n       <use x=\"740.185547\" xlink:href=\"#DejaVuSans-58\"/>\n       <use x=\"773.876953\" xlink:href=\"#DejaVuSans-49\"/>\n       <use x=\"837.5\" xlink:href=\"#DejaVuSans-48\"/>\n       <use x=\"901.123047\" xlink:href=\"#DejaVuSans-58\"/>\n       <use x=\"934.814453\" xlink:href=\"#DejaVuSans-48\"/>\n       <use x=\"998.4375\" xlink:href=\"#DejaVuSans-48\"/>\n      </g>\n     </g>\n    </g>\n    <g id=\"xtick_4\">\n     <g id=\"line2d_4\">\n      <g>\n       <use style=\"stroke:#000000;stroke-width:0.8;\" x=\"601.432955\" xlink:href=\"#md195f63bfa\" y=\"224.64\"/>\n      </g>\n     </g>\n     <g id=\"text_4\">\n      <!-- 2021-06-01 13:15:00 -->\n      <g transform=\"translate(548.32983 239.238438)scale(0.1 -0.1)\">\n       <defs>\n        <path d=\"M 40.578125 39.3125 \nQ 47.65625 37.796875 51.625 33 \nQ 55.609375 28.21875 55.609375 21.1875 \nQ 55.609375 10.40625 48.1875 4.484375 \nQ 40.765625 -1.421875 27.09375 -1.421875 \nQ 22.515625 -1.421875 17.65625 -0.515625 \nQ 12.796875 0.390625 7.625 2.203125 \nL 7.625 11.71875 \nQ 11.71875 9.328125 16.59375 8.109375 \nQ 21.484375 6.890625 26.8125 6.890625 \nQ 36.078125 6.890625 40.9375 10.546875 \nQ 45.796875 14.203125 45.796875 21.1875 \nQ 45.796875 27.640625 41.28125 31.265625 \nQ 36.765625 34.90625 28.71875 34.90625 \nL 20.21875 34.90625 \nL 20.21875 43.015625 \nL 29.109375 43.015625 \nQ 36.375 43.015625 40.234375 45.921875 \nQ 44.09375 48.828125 44.09375 54.296875 \nQ 44.09375 59.90625 40.109375 62.90625 \nQ 36.140625 65.921875 28.71875 65.921875 \nQ 24.65625 65.921875 20.015625 65.03125 \nQ 15.375 64.15625 9.8125 62.3125 \nL 9.8125 71.09375 \nQ 15.4375 72.65625 20.34375 73.4375 \nQ 25.25 74.21875 29.59375 74.21875 \nQ 40.828125 74.21875 47.359375 69.109375 \nQ 53.90625 64.015625 53.90625 55.328125 \nQ 53.90625 49.265625 50.4375 45.09375 \nQ 46.96875 40.921875 40.578125 39.3125 \nz\n\" id=\"DejaVuSans-51\"/>\n       </defs>\n       <use xlink:href=\"#DejaVuSans-50\"/>\n       <use x=\"63.623047\" xlink:href=\"#DejaVuSans-48\"/>\n       <use x=\"127.246094\" xlink:href=\"#DejaVuSans-50\"/>\n       <use x=\"190.869141\" xlink:href=\"#DejaVuSans-49\"/>\n       <use x=\"254.492188\" xlink:href=\"#DejaVuSans-45\"/>\n       <use x=\"290.576172\" xlink:href=\"#DejaVuSans-48\"/>\n       <use x=\"354.199219\" xlink:href=\"#DejaVuSans-54\"/>\n       <use x=\"417.822266\" xlink:href=\"#DejaVuSans-45\"/>\n       <use x=\"453.90625\" xlink:href=\"#DejaVuSans-48\"/>\n       <use x=\"517.529297\" xlink:href=\"#DejaVuSans-49\"/>\n       <use x=\"581.152344\" xlink:href=\"#DejaVuSans-32\"/>\n       <use x=\"612.939453\" xlink:href=\"#DejaVuSans-49\"/>\n       <use x=\"676.5625\" xlink:href=\"#DejaVuSans-51\"/>\n       <use x=\"740.185547\" xlink:href=\"#DejaVuSans-58\"/>\n       <use x=\"773.876953\" xlink:href=\"#DejaVuSans-49\"/>\n       <use x=\"837.5\" xlink:href=\"#DejaVuSans-53\"/>\n       <use x=\"901.123047\" xlink:href=\"#DejaVuSans-58\"/>\n       <use x=\"934.814453\" xlink:href=\"#DejaVuSans-48\"/>\n       <use x=\"998.4375\" xlink:href=\"#DejaVuSans-48\"/>\n      </g>\n     </g>\n    </g>\n    <g id=\"xtick_5\">\n     <g id=\"line2d_5\">\n      <g>\n       <use style=\"stroke:#000000;stroke-width:0.8;\" x=\"770.523864\" xlink:href=\"#md195f63bfa\" y=\"224.64\"/>\n      </g>\n     </g>\n     <g id=\"text_5\">\n      <!-- 2021-06-01 15:20:00 -->\n      <g transform=\"translate(717.420739 239.238438)scale(0.1 -0.1)\">\n       <use xlink:href=\"#DejaVuSans-50\"/>\n       <use x=\"63.623047\" xlink:href=\"#DejaVuSans-48\"/>\n       <use x=\"127.246094\" xlink:href=\"#DejaVuSans-50\"/>\n       <use x=\"190.869141\" xlink:href=\"#DejaVuSans-49\"/>\n       <use x=\"254.492188\" xlink:href=\"#DejaVuSans-45\"/>\n       <use x=\"290.576172\" xlink:href=\"#DejaVuSans-48\"/>\n       <use x=\"354.199219\" xlink:href=\"#DejaVuSans-54\"/>\n       <use x=\"417.822266\" xlink:href=\"#DejaVuSans-45\"/>\n       <use x=\"453.90625\" xlink:href=\"#DejaVuSans-48\"/>\n       <use x=\"517.529297\" xlink:href=\"#DejaVuSans-49\"/>\n       <use x=\"581.152344\" xlink:href=\"#DejaVuSans-32\"/>\n       <use x=\"612.939453\" xlink:href=\"#DejaVuSans-49\"/>\n       <use x=\"676.5625\" xlink:href=\"#DejaVuSans-53\"/>\n       <use x=\"740.185547\" xlink:href=\"#DejaVuSans-58\"/>\n       <use x=\"773.876953\" xlink:href=\"#DejaVuSans-50\"/>\n       <use x=\"837.5\" xlink:href=\"#DejaVuSans-48\"/>\n       <use x=\"901.123047\" xlink:href=\"#DejaVuSans-58\"/>\n       <use x=\"934.814453\" xlink:href=\"#DejaVuSans-48\"/>\n       <use x=\"998.4375\" xlink:href=\"#DejaVuSans-48\"/>\n      </g>\n     </g>\n    </g>\n    <g id=\"xtick_6\">\n     <g id=\"line2d_6\">\n      <g>\n       <use style=\"stroke:#000000;stroke-width:0.8;\" x=\"939.614773\" xlink:href=\"#md195f63bfa\" y=\"224.64\"/>\n      </g>\n     </g>\n     <g id=\"text_6\">\n      <!-- 2021-06-01 17:25:00 -->\n      <g transform=\"translate(886.511648 239.238438)scale(0.1 -0.1)\">\n       <use xlink:href=\"#DejaVuSans-50\"/>\n       <use x=\"63.623047\" xlink:href=\"#DejaVuSans-48\"/>\n       <use x=\"127.246094\" xlink:href=\"#DejaVuSans-50\"/>\n       <use x=\"190.869141\" xlink:href=\"#DejaVuSans-49\"/>\n       <use x=\"254.492188\" xlink:href=\"#DejaVuSans-45\"/>\n       <use x=\"290.576172\" xlink:href=\"#DejaVuSans-48\"/>\n       <use x=\"354.199219\" xlink:href=\"#DejaVuSans-54\"/>\n       <use x=\"417.822266\" xlink:href=\"#DejaVuSans-45\"/>\n       <use x=\"453.90625\" xlink:href=\"#DejaVuSans-48\"/>\n       <use x=\"517.529297\" xlink:href=\"#DejaVuSans-49\"/>\n       <use x=\"581.152344\" xlink:href=\"#DejaVuSans-32\"/>\n       <use x=\"612.939453\" xlink:href=\"#DejaVuSans-49\"/>\n       <use x=\"676.5625\" xlink:href=\"#DejaVuSans-55\"/>\n       <use x=\"740.185547\" xlink:href=\"#DejaVuSans-58\"/>\n       <use x=\"773.876953\" xlink:href=\"#DejaVuSans-50\"/>\n       <use x=\"837.5\" xlink:href=\"#DejaVuSans-53\"/>\n       <use x=\"901.123047\" xlink:href=\"#DejaVuSans-58\"/>\n       <use x=\"934.814453\" xlink:href=\"#DejaVuSans-48\"/>\n       <use x=\"998.4375\" xlink:href=\"#DejaVuSans-48\"/>\n      </g>\n     </g>\n    </g>\n    <g id=\"xtick_7\">\n     <g id=\"line2d_7\">\n      <g>\n       <use style=\"stroke:#000000;stroke-width:0.8;\" x=\"1108.705682\" xlink:href=\"#md195f63bfa\" y=\"224.64\"/>\n      </g>\n     </g>\n     <g id=\"text_7\">\n      <!-- 2021-06-01 19:30:00 -->\n      <g transform=\"translate(1055.602557 239.238438)scale(0.1 -0.1)\">\n       <use xlink:href=\"#DejaVuSans-50\"/>\n       <use x=\"63.623047\" xlink:href=\"#DejaVuSans-48\"/>\n       <use x=\"127.246094\" xlink:href=\"#DejaVuSans-50\"/>\n       <use x=\"190.869141\" xlink:href=\"#DejaVuSans-49\"/>\n       <use x=\"254.492188\" xlink:href=\"#DejaVuSans-45\"/>\n       <use x=\"290.576172\" xlink:href=\"#DejaVuSans-48\"/>\n       <use x=\"354.199219\" xlink:href=\"#DejaVuSans-54\"/>\n       <use x=\"417.822266\" xlink:href=\"#DejaVuSans-45\"/>\n       <use x=\"453.90625\" xlink:href=\"#DejaVuSans-48\"/>\n       <use x=\"517.529297\" xlink:href=\"#DejaVuSans-49\"/>\n       <use x=\"581.152344\" xlink:href=\"#DejaVuSans-32\"/>\n       <use x=\"612.939453\" xlink:href=\"#DejaVuSans-49\"/>\n       <use x=\"676.5625\" xlink:href=\"#DejaVuSans-57\"/>\n       <use x=\"740.185547\" xlink:href=\"#DejaVuSans-58\"/>\n       <use x=\"773.876953\" xlink:href=\"#DejaVuSans-51\"/>\n       <use x=\"837.5\" xlink:href=\"#DejaVuSans-48\"/>\n       <use x=\"901.123047\" xlink:href=\"#DejaVuSans-58\"/>\n       <use x=\"934.814453\" xlink:href=\"#DejaVuSans-48\"/>\n       <use x=\"998.4375\" xlink:href=\"#DejaVuSans-48\"/>\n      </g>\n     </g>\n    </g>\n    <g id=\"xtick_8\">\n     <g id=\"line2d_8\">\n      <g>\n       <use style=\"stroke:#000000;stroke-width:0.8;\" x=\"1277.796591\" xlink:href=\"#md195f63bfa\" y=\"224.64\"/>\n      </g>\n     </g>\n     <g id=\"text_8\">\n      <!-- 2021-06-01 21:35:00 -->\n      <g transform=\"translate(1224.693466 239.238438)scale(0.1 -0.1)\">\n       <use xlink:href=\"#DejaVuSans-50\"/>\n       <use x=\"63.623047\" xlink:href=\"#DejaVuSans-48\"/>\n       <use x=\"127.246094\" xlink:href=\"#DejaVuSans-50\"/>\n       <use x=\"190.869141\" xlink:href=\"#DejaVuSans-49\"/>\n       <use x=\"254.492188\" xlink:href=\"#DejaVuSans-45\"/>\n       <use x=\"290.576172\" xlink:href=\"#DejaVuSans-48\"/>\n       <use x=\"354.199219\" xlink:href=\"#DejaVuSans-54\"/>\n       <use x=\"417.822266\" xlink:href=\"#DejaVuSans-45\"/>\n       <use x=\"453.90625\" xlink:href=\"#DejaVuSans-48\"/>\n       <use x=\"517.529297\" xlink:href=\"#DejaVuSans-49\"/>\n       <use x=\"581.152344\" xlink:href=\"#DejaVuSans-32\"/>\n       <use x=\"612.939453\" xlink:href=\"#DejaVuSans-50\"/>\n       <use x=\"676.5625\" xlink:href=\"#DejaVuSans-49\"/>\n       <use x=\"740.185547\" xlink:href=\"#DejaVuSans-58\"/>\n       <use x=\"773.876953\" xlink:href=\"#DejaVuSans-51\"/>\n       <use x=\"837.5\" xlink:href=\"#DejaVuSans-53\"/>\n       <use x=\"901.123047\" xlink:href=\"#DejaVuSans-58\"/>\n       <use x=\"934.814453\" xlink:href=\"#DejaVuSans-48\"/>\n       <use x=\"998.4375\" xlink:href=\"#DejaVuSans-48\"/>\n      </g>\n     </g>\n    </g>\n    <g id=\"text_9\">\n     <!-- date -->\n     <g transform=\"translate(691.6125 252.916563)scale(0.1 -0.1)\">\n      <defs>\n       <path d=\"M 45.40625 46.390625 \nL 45.40625 75.984375 \nL 54.390625 75.984375 \nL 54.390625 0 \nL 45.40625 0 \nL 45.40625 8.203125 \nQ 42.578125 3.328125 38.25 0.953125 \nQ 33.9375 -1.421875 27.875 -1.421875 \nQ 17.96875 -1.421875 11.734375 6.484375 \nQ 5.515625 14.40625 5.515625 27.296875 \nQ 5.515625 40.1875 11.734375 48.09375 \nQ 17.96875 56 27.875 56 \nQ 33.9375 56 38.25 53.625 \nQ 42.578125 51.265625 45.40625 46.390625 \nz\nM 14.796875 27.296875 \nQ 14.796875 17.390625 18.875 11.75 \nQ 22.953125 6.109375 30.078125 6.109375 \nQ 37.203125 6.109375 41.296875 11.75 \nQ 45.40625 17.390625 45.40625 27.296875 \nQ 45.40625 37.203125 41.296875 42.84375 \nQ 37.203125 48.484375 30.078125 48.484375 \nQ 22.953125 48.484375 18.875 42.84375 \nQ 14.796875 37.203125 14.796875 27.296875 \nz\n\" id=\"DejaVuSans-100\"/>\n       <path d=\"M 34.28125 27.484375 \nQ 23.390625 27.484375 19.1875 25 \nQ 14.984375 22.515625 14.984375 16.5 \nQ 14.984375 11.71875 18.140625 8.90625 \nQ 21.296875 6.109375 26.703125 6.109375 \nQ 34.1875 6.109375 38.703125 11.40625 \nQ 43.21875 16.703125 43.21875 25.484375 \nL 43.21875 27.484375 \nz\nM 52.203125 31.203125 \nL 52.203125 0 \nL 43.21875 0 \nL 43.21875 8.296875 \nQ 40.140625 3.328125 35.546875 0.953125 \nQ 30.953125 -1.421875 24.3125 -1.421875 \nQ 15.921875 -1.421875 10.953125 3.296875 \nQ 6 8.015625 6 15.921875 \nQ 6 25.140625 12.171875 29.828125 \nQ 18.359375 34.515625 30.609375 34.515625 \nL 43.21875 34.515625 \nL 43.21875 35.40625 \nQ 43.21875 41.609375 39.140625 45 \nQ 35.0625 48.390625 27.6875 48.390625 \nQ 23 48.390625 18.546875 47.265625 \nQ 14.109375 46.140625 10.015625 43.890625 \nL 10.015625 52.203125 \nQ 14.9375 54.109375 19.578125 55.046875 \nQ 24.21875 56 28.609375 56 \nQ 40.484375 56 46.34375 49.84375 \nQ 52.203125 43.703125 52.203125 31.203125 \nz\n\" id=\"DejaVuSans-97\"/>\n       <path d=\"M 18.3125 70.21875 \nL 18.3125 54.6875 \nL 36.8125 54.6875 \nL 36.8125 47.703125 \nL 18.3125 47.703125 \nL 18.3125 18.015625 \nQ 18.3125 11.328125 20.140625 9.421875 \nQ 21.96875 7.515625 27.59375 7.515625 \nL 36.8125 7.515625 \nL 36.8125 0 \nL 27.59375 0 \nQ 17.1875 0 13.234375 3.875 \nQ 9.28125 7.765625 9.28125 18.015625 \nL 9.28125 47.703125 \nL 2.6875 47.703125 \nL 2.6875 54.6875 \nL 9.28125 54.6875 \nL 9.28125 70.21875 \nz\n\" id=\"DejaVuSans-116\"/>\n       <path d=\"M 56.203125 29.59375 \nL 56.203125 25.203125 \nL 14.890625 25.203125 \nQ 15.484375 15.921875 20.484375 11.0625 \nQ 25.484375 6.203125 34.421875 6.203125 \nQ 39.59375 6.203125 44.453125 7.46875 \nQ 49.3125 8.734375 54.109375 11.28125 \nL 54.109375 2.78125 \nQ 49.265625 0.734375 44.1875 -0.34375 \nQ 39.109375 -1.421875 33.890625 -1.421875 \nQ 20.796875 -1.421875 13.15625 6.1875 \nQ 5.515625 13.8125 5.515625 26.8125 \nQ 5.515625 40.234375 12.765625 48.109375 \nQ 20.015625 56 32.328125 56 \nQ 43.359375 56 49.78125 48.890625 \nQ 56.203125 41.796875 56.203125 29.59375 \nz\nM 47.21875 32.234375 \nQ 47.125 39.59375 43.09375 43.984375 \nQ 39.0625 48.390625 32.421875 48.390625 \nQ 24.90625 48.390625 20.390625 44.140625 \nQ 15.875 39.890625 15.1875 32.171875 \nz\n\" id=\"DejaVuSans-101\"/>\n      </defs>\n      <use xlink:href=\"#DejaVuSans-100\"/>\n      <use x=\"63.476562\" xlink:href=\"#DejaVuSans-97\"/>\n      <use x=\"124.755859\" xlink:href=\"#DejaVuSans-116\"/>\n      <use x=\"163.964844\" xlink:href=\"#DejaVuSans-101\"/>\n     </g>\n    </g>\n   </g>\n   <g id=\"matplotlib.axis_2\">\n    <g id=\"ytick_1\">\n     <g id=\"line2d_9\">\n      <defs>\n       <path d=\"M 0 0 \nL -3.5 0 \n\" id=\"me4df37a32b\" style=\"stroke:#000000;stroke-width:0.8;\"/>\n      </defs>\n      <g>\n       <use style=\"stroke:#000000;stroke-width:0.8;\" x=\"33.2875\" xlink:href=\"#me4df37a32b\" y=\"200.221604\"/>\n      </g>\n     </g>\n     <g id=\"text_10\">\n      <!-- 300 -->\n      <g transform=\"translate(7.2 204.020823)scale(0.1 -0.1)\">\n       <use xlink:href=\"#DejaVuSans-51\"/>\n       <use x=\"63.623047\" xlink:href=\"#DejaVuSans-48\"/>\n       <use x=\"127.246094\" xlink:href=\"#DejaVuSans-48\"/>\n      </g>\n     </g>\n    </g>\n    <g id=\"ytick_2\">\n     <g id=\"line2d_10\">\n      <g>\n       <use style=\"stroke:#000000;stroke-width:0.8;\" x=\"33.2875\" xlink:href=\"#me4df37a32b\" y=\"171.152086\"/>\n      </g>\n     </g>\n     <g id=\"text_11\">\n      <!-- 310 -->\n      <g transform=\"translate(7.2 174.951304)scale(0.1 -0.1)\">\n       <use xlink:href=\"#DejaVuSans-51\"/>\n       <use x=\"63.623047\" xlink:href=\"#DejaVuSans-49\"/>\n       <use x=\"127.246094\" xlink:href=\"#DejaVuSans-48\"/>\n      </g>\n     </g>\n    </g>\n    <g id=\"ytick_3\">\n     <g id=\"line2d_11\">\n      <g>\n       <use style=\"stroke:#000000;stroke-width:0.8;\" x=\"33.2875\" xlink:href=\"#me4df37a32b\" y=\"142.082567\"/>\n      </g>\n     </g>\n     <g id=\"text_12\">\n      <!-- 320 -->\n      <g transform=\"translate(7.2 145.881786)scale(0.1 -0.1)\">\n       <use xlink:href=\"#DejaVuSans-51\"/>\n       <use x=\"63.623047\" xlink:href=\"#DejaVuSans-50\"/>\n       <use x=\"127.246094\" xlink:href=\"#DejaVuSans-48\"/>\n      </g>\n     </g>\n    </g>\n    <g id=\"ytick_4\">\n     <g id=\"line2d_12\">\n      <g>\n       <use style=\"stroke:#000000;stroke-width:0.8;\" x=\"33.2875\" xlink:href=\"#me4df37a32b\" y=\"113.013048\"/>\n      </g>\n     </g>\n     <g id=\"text_13\">\n      <!-- 330 -->\n      <g transform=\"translate(7.2 116.812267)scale(0.1 -0.1)\">\n       <use xlink:href=\"#DejaVuSans-51\"/>\n       <use x=\"63.623047\" xlink:href=\"#DejaVuSans-51\"/>\n       <use x=\"127.246094\" xlink:href=\"#DejaVuSans-48\"/>\n      </g>\n     </g>\n    </g>\n    <g id=\"ytick_5\">\n     <g id=\"line2d_13\">\n      <g>\n       <use style=\"stroke:#000000;stroke-width:0.8;\" x=\"33.2875\" xlink:href=\"#me4df37a32b\" y=\"83.943529\"/>\n      </g>\n     </g>\n     <g id=\"text_14\">\n      <!-- 340 -->\n      <g transform=\"translate(7.2 87.742748)scale(0.1 -0.1)\">\n       <defs>\n        <path d=\"M 37.796875 64.3125 \nL 12.890625 25.390625 \nL 37.796875 25.390625 \nz\nM 35.203125 72.90625 \nL 47.609375 72.90625 \nL 47.609375 25.390625 \nL 58.015625 25.390625 \nL 58.015625 17.1875 \nL 47.609375 17.1875 \nL 47.609375 0 \nL 37.796875 0 \nL 37.796875 17.1875 \nL 4.890625 17.1875 \nL 4.890625 26.703125 \nz\n\" id=\"DejaVuSans-52\"/>\n       </defs>\n       <use xlink:href=\"#DejaVuSans-51\"/>\n       <use x=\"63.623047\" xlink:href=\"#DejaVuSans-52\"/>\n       <use x=\"127.246094\" xlink:href=\"#DejaVuSans-48\"/>\n      </g>\n     </g>\n    </g>\n    <g id=\"ytick_6\">\n     <g id=\"line2d_14\">\n      <g>\n       <use style=\"stroke:#000000;stroke-width:0.8;\" x=\"33.2875\" xlink:href=\"#me4df37a32b\" y=\"54.874011\"/>\n      </g>\n     </g>\n     <g id=\"text_15\">\n      <!-- 350 -->\n      <g transform=\"translate(7.2 58.673229)scale(0.1 -0.1)\">\n       <use xlink:href=\"#DejaVuSans-51\"/>\n       <use x=\"63.623047\" xlink:href=\"#DejaVuSans-53\"/>\n       <use x=\"127.246094\" xlink:href=\"#DejaVuSans-48\"/>\n      </g>\n     </g>\n    </g>\n    <g id=\"ytick_7\">\n     <g id=\"line2d_15\">\n      <g>\n       <use style=\"stroke:#000000;stroke-width:0.8;\" x=\"33.2875\" xlink:href=\"#me4df37a32b\" y=\"25.804492\"/>\n      </g>\n     </g>\n     <g id=\"text_16\">\n      <!-- 360 -->\n      <g transform=\"translate(7.2 29.603711)scale(0.1 -0.1)\">\n       <use xlink:href=\"#DejaVuSans-51\"/>\n       <use x=\"63.623047\" xlink:href=\"#DejaVuSans-54\"/>\n       <use x=\"127.246094\" xlink:href=\"#DejaVuSans-48\"/>\n      </g>\n     </g>\n    </g>\n   </g>\n   <g id=\"line2d_16\">\n    <path clip-path=\"url(#p9926e86039)\" d=\"M 94.160227 188.593797 \nL 127.978409 188.593797 \nL 134.742045 144.989519 \nL 168.560227 144.989519 \nL 175.323864 127.547807 \nL 209.142045 127.547807 \nL 215.905682 118.826952 \nL 249.723864 118.826952 \nL 256.4875 75.222674 \nL 290.305682 75.222674 \nL 297.069318 51.967059 \nL 330.8875 51.967059 \nL 337.651136 43.246203 \nL 364.705682 43.246203 \nL 371.469318 49.060107 \nL 405.2875 49.060107 \nL 412.051136 17.083636 \nL 445.869318 17.083636 \nL 452.632955 31.618396 \nL 486.451136 31.618396 \nL 493.214773 37.432299 \nL 533.796591 37.432299 \nL 540.560227 57.780963 \nL 574.378409 57.780963 \nL 581.142045 69.40877 \nL 614.960227 69.40877 \nL 621.723864 54.874011 \nL 655.542045 54.874011 \nL 662.305682 69.40877 \nL 696.123864 69.40877 \nL 702.8875 49.060107 \nL 736.705682 49.060107 \nL 743.469318 54.874011 \nL 784.051136 54.874011 \nL 790.814773 46.153155 \nL 824.632955 46.153155 \nL 831.396591 49.060107 \nL 865.214773 49.060107 \nL 871.978409 63.594866 \nL 899.032955 63.594866 \nL 905.796591 78.129626 \nL 939.614773 78.129626 \nL 946.378409 69.40877 \nL 980.196591 69.40877 \nL 993.723864 92.664385 \nL 1027.542045 92.664385 \nL 1034.305682 104.292193 \nL 1068.123864 104.292193 \nL 1074.8875 110.106096 \nL 1108.705682 110.106096 \nL 1115.469318 144.989519 \nL 1149.2875 144.989519 \nL 1156.051136 191.500749 \nL 1189.869318 191.500749 \nL 1196.632955 194.407701 \nL 1237.214773 194.407701 \nL 1243.978409 197.314652 \nL 1277.796591 197.314652 \nL 1284.560227 214.756364 \nL 1311.614773 214.756364 \nL 1311.614773 214.756364 \n\" style=\"fill:none;stroke:#1f77b4;stroke-linecap:square;stroke-width:1.5;\"/>\n    <defs>\n     <path d=\"M 0 1.5 \nC 0.397805 1.5 0.77937 1.341951 1.06066 1.06066 \nC 1.341951 0.77937 1.5 0.397805 1.5 0 \nC 1.5 -0.397805 1.341951 -0.77937 1.06066 -1.06066 \nC 0.77937 -1.341951 0.397805 -1.5 0 -1.5 \nC -0.397805 -1.5 -0.77937 -1.341951 -1.06066 -1.06066 \nC -1.341951 -0.77937 -1.5 -0.397805 -1.5 0 \nC -1.5 0.397805 -1.341951 0.77937 -1.06066 1.06066 \nC -0.77937 1.341951 -0.397805 1.5 0 1.5 \nz\n\" id=\"m35f9bc98df\" style=\"stroke:#1f77b4;\"/>\n    </defs>\n    <g clip-path=\"url(#p9926e86039)\">\n     <use style=\"fill:#1f77b4;stroke:#1f77b4;\" x=\"94.160227\" xlink:href=\"#m35f9bc98df\" y=\"188.593797\"/>\n     <use style=\"fill:#1f77b4;stroke:#1f77b4;\" x=\"100.923864\" xlink:href=\"#m35f9bc98df\" y=\"188.593797\"/>\n     <use style=\"fill:#1f77b4;stroke:#1f77b4;\" x=\"107.6875\" xlink:href=\"#m35f9bc98df\" y=\"188.593797\"/>\n     <use style=\"fill:#1f77b4;stroke:#1f77b4;\" x=\"114.451136\" xlink:href=\"#m35f9bc98df\" y=\"188.593797\"/>\n     <use style=\"fill:#1f77b4;stroke:#1f77b4;\" x=\"121.214773\" xlink:href=\"#m35f9bc98df\" y=\"188.593797\"/>\n     <use style=\"fill:#1f77b4;stroke:#1f77b4;\" x=\"127.978409\" xlink:href=\"#m35f9bc98df\" y=\"188.593797\"/>\n     <use style=\"fill:#1f77b4;stroke:#1f77b4;\" x=\"134.742045\" xlink:href=\"#m35f9bc98df\" y=\"144.989519\"/>\n     <use style=\"fill:#1f77b4;stroke:#1f77b4;\" x=\"141.505682\" xlink:href=\"#m35f9bc98df\" y=\"144.989519\"/>\n     <use style=\"fill:#1f77b4;stroke:#1f77b4;\" x=\"148.269318\" xlink:href=\"#m35f9bc98df\" y=\"144.989519\"/>\n     <use style=\"fill:#1f77b4;stroke:#1f77b4;\" x=\"155.032955\" xlink:href=\"#m35f9bc98df\" y=\"144.989519\"/>\n     <use style=\"fill:#1f77b4;stroke:#1f77b4;\" x=\"161.796591\" xlink:href=\"#m35f9bc98df\" y=\"144.989519\"/>\n     <use style=\"fill:#1f77b4;stroke:#1f77b4;\" x=\"168.560227\" xlink:href=\"#m35f9bc98df\" y=\"144.989519\"/>\n     <use style=\"fill:#1f77b4;stroke:#1f77b4;\" x=\"175.323864\" xlink:href=\"#m35f9bc98df\" y=\"127.547807\"/>\n     <use style=\"fill:#1f77b4;stroke:#1f77b4;\" x=\"182.0875\" xlink:href=\"#m35f9bc98df\" y=\"127.547807\"/>\n     <use style=\"fill:#1f77b4;stroke:#1f77b4;\" x=\"188.851136\" xlink:href=\"#m35f9bc98df\" y=\"127.547807\"/>\n     <use style=\"fill:#1f77b4;stroke:#1f77b4;\" x=\"195.614773\" xlink:href=\"#m35f9bc98df\" y=\"127.547807\"/>\n     <use style=\"fill:#1f77b4;stroke:#1f77b4;\" x=\"202.378409\" xlink:href=\"#m35f9bc98df\" y=\"127.547807\"/>\n     <use style=\"fill:#1f77b4;stroke:#1f77b4;\" x=\"209.142045\" xlink:href=\"#m35f9bc98df\" y=\"127.547807\"/>\n     <use style=\"fill:#1f77b4;stroke:#1f77b4;\" x=\"215.905682\" xlink:href=\"#m35f9bc98df\" y=\"118.826952\"/>\n     <use style=\"fill:#1f77b4;stroke:#1f77b4;\" x=\"222.669318\" xlink:href=\"#m35f9bc98df\" y=\"118.826952\"/>\n     <use style=\"fill:#1f77b4;stroke:#1f77b4;\" x=\"229.432955\" xlink:href=\"#m35f9bc98df\" y=\"118.826952\"/>\n     <use style=\"fill:#1f77b4;stroke:#1f77b4;\" x=\"236.196591\" xlink:href=\"#m35f9bc98df\" y=\"118.826952\"/>\n     <use style=\"fill:#1f77b4;stroke:#1f77b4;\" x=\"242.960227\" xlink:href=\"#m35f9bc98df\" y=\"118.826952\"/>\n     <use style=\"fill:#1f77b4;stroke:#1f77b4;\" x=\"249.723864\" xlink:href=\"#m35f9bc98df\" y=\"118.826952\"/>\n     <use style=\"fill:#1f77b4;stroke:#1f77b4;\" x=\"256.4875\" xlink:href=\"#m35f9bc98df\" y=\"75.222674\"/>\n     <use style=\"fill:#1f77b4;stroke:#1f77b4;\" x=\"263.251136\" xlink:href=\"#m35f9bc98df\" y=\"75.222674\"/>\n     <use style=\"fill:#1f77b4;stroke:#1f77b4;\" x=\"270.014773\" xlink:href=\"#m35f9bc98df\" y=\"75.222674\"/>\n     <use style=\"fill:#1f77b4;stroke:#1f77b4;\" x=\"276.778409\" xlink:href=\"#m35f9bc98df\" y=\"75.222674\"/>\n     <use style=\"fill:#1f77b4;stroke:#1f77b4;\" x=\"283.542045\" xlink:href=\"#m35f9bc98df\" y=\"75.222674\"/>\n     <use style=\"fill:#1f77b4;stroke:#1f77b4;\" x=\"290.305682\" xlink:href=\"#m35f9bc98df\" y=\"75.222674\"/>\n     <use style=\"fill:#1f77b4;stroke:#1f77b4;\" x=\"297.069318\" xlink:href=\"#m35f9bc98df\" y=\"51.967059\"/>\n     <use style=\"fill:#1f77b4;stroke:#1f77b4;\" x=\"303.832955\" xlink:href=\"#m35f9bc98df\" y=\"51.967059\"/>\n     <use style=\"fill:#1f77b4;stroke:#1f77b4;\" x=\"310.596591\" xlink:href=\"#m35f9bc98df\" y=\"51.967059\"/>\n     <use style=\"fill:#1f77b4;stroke:#1f77b4;\" x=\"317.360227\" xlink:href=\"#m35f9bc98df\" y=\"51.967059\"/>\n     <use style=\"fill:#1f77b4;stroke:#1f77b4;\" x=\"324.123864\" xlink:href=\"#m35f9bc98df\" y=\"51.967059\"/>\n     <use style=\"fill:#1f77b4;stroke:#1f77b4;\" x=\"330.8875\" xlink:href=\"#m35f9bc98df\" y=\"51.967059\"/>\n     <use style=\"fill:#1f77b4;stroke:#1f77b4;\" x=\"337.651136\" xlink:href=\"#m35f9bc98df\" y=\"43.246203\"/>\n     <use style=\"fill:#1f77b4;stroke:#1f77b4;\" x=\"344.414773\" xlink:href=\"#m35f9bc98df\" y=\"43.246203\"/>\n     <use style=\"fill:#1f77b4;stroke:#1f77b4;\" x=\"351.178409\" xlink:href=\"#m35f9bc98df\" y=\"43.246203\"/>\n     <use style=\"fill:#1f77b4;stroke:#1f77b4;\" x=\"357.942045\" xlink:href=\"#m35f9bc98df\" y=\"43.246203\"/>\n     <use style=\"fill:#1f77b4;stroke:#1f77b4;\" x=\"364.705682\" xlink:href=\"#m35f9bc98df\" y=\"43.246203\"/>\n     <use style=\"fill:#1f77b4;stroke:#1f77b4;\" x=\"371.469318\" xlink:href=\"#m35f9bc98df\" y=\"49.060107\"/>\n     <use style=\"fill:#1f77b4;stroke:#1f77b4;\" x=\"378.232955\" xlink:href=\"#m35f9bc98df\" y=\"49.060107\"/>\n     <use style=\"fill:#1f77b4;stroke:#1f77b4;\" x=\"384.996591\" xlink:href=\"#m35f9bc98df\" y=\"49.060107\"/>\n     <use style=\"fill:#1f77b4;stroke:#1f77b4;\" x=\"391.760227\" xlink:href=\"#m35f9bc98df\" y=\"49.060107\"/>\n     <use style=\"fill:#1f77b4;stroke:#1f77b4;\" x=\"398.523864\" xlink:href=\"#m35f9bc98df\" y=\"49.060107\"/>\n     <use style=\"fill:#1f77b4;stroke:#1f77b4;\" x=\"405.2875\" xlink:href=\"#m35f9bc98df\" y=\"49.060107\"/>\n     <use style=\"fill:#1f77b4;stroke:#1f77b4;\" x=\"412.051136\" xlink:href=\"#m35f9bc98df\" y=\"17.083636\"/>\n     <use style=\"fill:#1f77b4;stroke:#1f77b4;\" x=\"418.814773\" xlink:href=\"#m35f9bc98df\" y=\"17.083636\"/>\n     <use style=\"fill:#1f77b4;stroke:#1f77b4;\" x=\"425.578409\" xlink:href=\"#m35f9bc98df\" y=\"17.083636\"/>\n     <use style=\"fill:#1f77b4;stroke:#1f77b4;\" x=\"432.342045\" xlink:href=\"#m35f9bc98df\" y=\"17.083636\"/>\n     <use style=\"fill:#1f77b4;stroke:#1f77b4;\" x=\"439.105682\" xlink:href=\"#m35f9bc98df\" y=\"17.083636\"/>\n     <use style=\"fill:#1f77b4;stroke:#1f77b4;\" x=\"445.869318\" xlink:href=\"#m35f9bc98df\" y=\"17.083636\"/>\n     <use style=\"fill:#1f77b4;stroke:#1f77b4;\" x=\"452.632955\" xlink:href=\"#m35f9bc98df\" y=\"31.618396\"/>\n     <use style=\"fill:#1f77b4;stroke:#1f77b4;\" x=\"459.396591\" xlink:href=\"#m35f9bc98df\" y=\"31.618396\"/>\n     <use style=\"fill:#1f77b4;stroke:#1f77b4;\" x=\"466.160227\" xlink:href=\"#m35f9bc98df\" y=\"31.618396\"/>\n     <use style=\"fill:#1f77b4;stroke:#1f77b4;\" x=\"472.923864\" xlink:href=\"#m35f9bc98df\" y=\"31.618396\"/>\n     <use style=\"fill:#1f77b4;stroke:#1f77b4;\" x=\"479.6875\" xlink:href=\"#m35f9bc98df\" y=\"31.618396\"/>\n     <use style=\"fill:#1f77b4;stroke:#1f77b4;\" x=\"486.451136\" xlink:href=\"#m35f9bc98df\" y=\"31.618396\"/>\n     <use style=\"fill:#1f77b4;stroke:#1f77b4;\" x=\"493.214773\" xlink:href=\"#m35f9bc98df\" y=\"37.432299\"/>\n     <use style=\"fill:#1f77b4;stroke:#1f77b4;\" x=\"499.978409\" xlink:href=\"#m35f9bc98df\" y=\"37.432299\"/>\n     <use style=\"fill:#1f77b4;stroke:#1f77b4;\" x=\"506.742045\" xlink:href=\"#m35f9bc98df\" y=\"37.432299\"/>\n     <use style=\"fill:#1f77b4;stroke:#1f77b4;\" x=\"513.505682\" xlink:href=\"#m35f9bc98df\" y=\"37.432299\"/>\n     <use style=\"fill:#1f77b4;stroke:#1f77b4;\" x=\"520.269318\" xlink:href=\"#m35f9bc98df\" y=\"37.432299\"/>\n     <use style=\"fill:#1f77b4;stroke:#1f77b4;\" x=\"527.032955\" xlink:href=\"#m35f9bc98df\" y=\"37.432299\"/>\n     <use style=\"fill:#1f77b4;stroke:#1f77b4;\" x=\"533.796591\" xlink:href=\"#m35f9bc98df\" y=\"37.432299\"/>\n     <use style=\"fill:#1f77b4;stroke:#1f77b4;\" x=\"540.560227\" xlink:href=\"#m35f9bc98df\" y=\"57.780963\"/>\n     <use style=\"fill:#1f77b4;stroke:#1f77b4;\" x=\"547.323864\" xlink:href=\"#m35f9bc98df\" y=\"57.780963\"/>\n     <use style=\"fill:#1f77b4;stroke:#1f77b4;\" x=\"554.0875\" xlink:href=\"#m35f9bc98df\" y=\"57.780963\"/>\n     <use style=\"fill:#1f77b4;stroke:#1f77b4;\" x=\"560.851136\" xlink:href=\"#m35f9bc98df\" y=\"57.780963\"/>\n     <use style=\"fill:#1f77b4;stroke:#1f77b4;\" x=\"567.614773\" xlink:href=\"#m35f9bc98df\" y=\"57.780963\"/>\n     <use style=\"fill:#1f77b4;stroke:#1f77b4;\" x=\"574.378409\" xlink:href=\"#m35f9bc98df\" y=\"57.780963\"/>\n     <use style=\"fill:#1f77b4;stroke:#1f77b4;\" x=\"581.142045\" xlink:href=\"#m35f9bc98df\" y=\"69.40877\"/>\n     <use style=\"fill:#1f77b4;stroke:#1f77b4;\" x=\"587.905682\" xlink:href=\"#m35f9bc98df\" y=\"69.40877\"/>\n     <use style=\"fill:#1f77b4;stroke:#1f77b4;\" x=\"594.669318\" xlink:href=\"#m35f9bc98df\" y=\"69.40877\"/>\n     <use style=\"fill:#1f77b4;stroke:#1f77b4;\" x=\"601.432955\" xlink:href=\"#m35f9bc98df\" y=\"69.40877\"/>\n     <use style=\"fill:#1f77b4;stroke:#1f77b4;\" x=\"608.196591\" xlink:href=\"#m35f9bc98df\" y=\"69.40877\"/>\n     <use style=\"fill:#1f77b4;stroke:#1f77b4;\" x=\"614.960227\" xlink:href=\"#m35f9bc98df\" y=\"69.40877\"/>\n     <use style=\"fill:#1f77b4;stroke:#1f77b4;\" x=\"621.723864\" xlink:href=\"#m35f9bc98df\" y=\"54.874011\"/>\n     <use style=\"fill:#1f77b4;stroke:#1f77b4;\" x=\"628.4875\" xlink:href=\"#m35f9bc98df\" y=\"54.874011\"/>\n     <use style=\"fill:#1f77b4;stroke:#1f77b4;\" x=\"635.251136\" xlink:href=\"#m35f9bc98df\" y=\"54.874011\"/>\n     <use style=\"fill:#1f77b4;stroke:#1f77b4;\" x=\"642.014773\" xlink:href=\"#m35f9bc98df\" y=\"54.874011\"/>\n     <use style=\"fill:#1f77b4;stroke:#1f77b4;\" x=\"648.778409\" xlink:href=\"#m35f9bc98df\" y=\"54.874011\"/>\n     <use style=\"fill:#1f77b4;stroke:#1f77b4;\" x=\"655.542045\" xlink:href=\"#m35f9bc98df\" y=\"54.874011\"/>\n     <use style=\"fill:#1f77b4;stroke:#1f77b4;\" x=\"662.305682\" xlink:href=\"#m35f9bc98df\" y=\"69.40877\"/>\n     <use style=\"fill:#1f77b4;stroke:#1f77b4;\" x=\"669.069318\" xlink:href=\"#m35f9bc98df\" y=\"69.40877\"/>\n     <use style=\"fill:#1f77b4;stroke:#1f77b4;\" x=\"675.832955\" xlink:href=\"#m35f9bc98df\" y=\"69.40877\"/>\n     <use style=\"fill:#1f77b4;stroke:#1f77b4;\" x=\"682.596591\" xlink:href=\"#m35f9bc98df\" y=\"69.40877\"/>\n     <use style=\"fill:#1f77b4;stroke:#1f77b4;\" x=\"689.360227\" xlink:href=\"#m35f9bc98df\" y=\"69.40877\"/>\n     <use style=\"fill:#1f77b4;stroke:#1f77b4;\" x=\"696.123864\" xlink:href=\"#m35f9bc98df\" y=\"69.40877\"/>\n     <use style=\"fill:#1f77b4;stroke:#1f77b4;\" x=\"702.8875\" xlink:href=\"#m35f9bc98df\" y=\"49.060107\"/>\n     <use style=\"fill:#1f77b4;stroke:#1f77b4;\" x=\"709.651136\" xlink:href=\"#m35f9bc98df\" y=\"49.060107\"/>\n     <use style=\"fill:#1f77b4;stroke:#1f77b4;\" x=\"716.414773\" xlink:href=\"#m35f9bc98df\" y=\"49.060107\"/>\n     <use style=\"fill:#1f77b4;stroke:#1f77b4;\" x=\"723.178409\" xlink:href=\"#m35f9bc98df\" y=\"49.060107\"/>\n     <use style=\"fill:#1f77b4;stroke:#1f77b4;\" x=\"729.942045\" xlink:href=\"#m35f9bc98df\" y=\"49.060107\"/>\n     <use style=\"fill:#1f77b4;stroke:#1f77b4;\" x=\"736.705682\" xlink:href=\"#m35f9bc98df\" y=\"49.060107\"/>\n     <use style=\"fill:#1f77b4;stroke:#1f77b4;\" x=\"743.469318\" xlink:href=\"#m35f9bc98df\" y=\"54.874011\"/>\n     <use style=\"fill:#1f77b4;stroke:#1f77b4;\" x=\"750.232955\" xlink:href=\"#m35f9bc98df\" y=\"54.874011\"/>\n     <use style=\"fill:#1f77b4;stroke:#1f77b4;\" x=\"756.996591\" xlink:href=\"#m35f9bc98df\" y=\"54.874011\"/>\n     <use style=\"fill:#1f77b4;stroke:#1f77b4;\" x=\"763.760227\" xlink:href=\"#m35f9bc98df\" y=\"54.874011\"/>\n     <use style=\"fill:#1f77b4;stroke:#1f77b4;\" x=\"770.523864\" xlink:href=\"#m35f9bc98df\" y=\"54.874011\"/>\n     <use style=\"fill:#1f77b4;stroke:#1f77b4;\" x=\"777.2875\" xlink:href=\"#m35f9bc98df\" y=\"54.874011\"/>\n     <use style=\"fill:#1f77b4;stroke:#1f77b4;\" x=\"784.051136\" xlink:href=\"#m35f9bc98df\" y=\"54.874011\"/>\n     <use style=\"fill:#1f77b4;stroke:#1f77b4;\" x=\"790.814773\" xlink:href=\"#m35f9bc98df\" y=\"46.153155\"/>\n     <use style=\"fill:#1f77b4;stroke:#1f77b4;\" x=\"797.578409\" xlink:href=\"#m35f9bc98df\" y=\"46.153155\"/>\n     <use style=\"fill:#1f77b4;stroke:#1f77b4;\" x=\"804.342045\" xlink:href=\"#m35f9bc98df\" y=\"46.153155\"/>\n     <use style=\"fill:#1f77b4;stroke:#1f77b4;\" x=\"811.105682\" xlink:href=\"#m35f9bc98df\" y=\"46.153155\"/>\n     <use style=\"fill:#1f77b4;stroke:#1f77b4;\" x=\"817.869318\" xlink:href=\"#m35f9bc98df\" y=\"46.153155\"/>\n     <use style=\"fill:#1f77b4;stroke:#1f77b4;\" x=\"824.632955\" xlink:href=\"#m35f9bc98df\" y=\"46.153155\"/>\n     <use style=\"fill:#1f77b4;stroke:#1f77b4;\" x=\"831.396591\" xlink:href=\"#m35f9bc98df\" y=\"49.060107\"/>\n     <use style=\"fill:#1f77b4;stroke:#1f77b4;\" x=\"838.160227\" xlink:href=\"#m35f9bc98df\" y=\"49.060107\"/>\n     <use style=\"fill:#1f77b4;stroke:#1f77b4;\" x=\"844.923864\" xlink:href=\"#m35f9bc98df\" y=\"49.060107\"/>\n     <use style=\"fill:#1f77b4;stroke:#1f77b4;\" x=\"851.6875\" xlink:href=\"#m35f9bc98df\" y=\"49.060107\"/>\n     <use style=\"fill:#1f77b4;stroke:#1f77b4;\" x=\"858.451136\" xlink:href=\"#m35f9bc98df\" y=\"49.060107\"/>\n     <use style=\"fill:#1f77b4;stroke:#1f77b4;\" x=\"865.214773\" xlink:href=\"#m35f9bc98df\" y=\"49.060107\"/>\n     <use style=\"fill:#1f77b4;stroke:#1f77b4;\" x=\"871.978409\" xlink:href=\"#m35f9bc98df\" y=\"63.594866\"/>\n     <use style=\"fill:#1f77b4;stroke:#1f77b4;\" x=\"878.742045\" xlink:href=\"#m35f9bc98df\" y=\"63.594866\"/>\n     <use style=\"fill:#1f77b4;stroke:#1f77b4;\" x=\"885.505682\" xlink:href=\"#m35f9bc98df\" y=\"63.594866\"/>\n     <use style=\"fill:#1f77b4;stroke:#1f77b4;\" x=\"892.269318\" xlink:href=\"#m35f9bc98df\" y=\"63.594866\"/>\n     <use style=\"fill:#1f77b4;stroke:#1f77b4;\" x=\"899.032955\" xlink:href=\"#m35f9bc98df\" y=\"63.594866\"/>\n     <use style=\"fill:#1f77b4;stroke:#1f77b4;\" x=\"905.796591\" xlink:href=\"#m35f9bc98df\" y=\"78.129626\"/>\n     <use style=\"fill:#1f77b4;stroke:#1f77b4;\" x=\"912.560227\" xlink:href=\"#m35f9bc98df\" y=\"78.129626\"/>\n     <use style=\"fill:#1f77b4;stroke:#1f77b4;\" x=\"919.323864\" xlink:href=\"#m35f9bc98df\" y=\"78.129626\"/>\n     <use style=\"fill:#1f77b4;stroke:#1f77b4;\" x=\"926.0875\" xlink:href=\"#m35f9bc98df\" y=\"78.129626\"/>\n     <use style=\"fill:#1f77b4;stroke:#1f77b4;\" x=\"932.851136\" xlink:href=\"#m35f9bc98df\" y=\"78.129626\"/>\n     <use style=\"fill:#1f77b4;stroke:#1f77b4;\" x=\"939.614773\" xlink:href=\"#m35f9bc98df\" y=\"78.129626\"/>\n     <use style=\"fill:#1f77b4;stroke:#1f77b4;\" x=\"946.378409\" xlink:href=\"#m35f9bc98df\" y=\"69.40877\"/>\n     <use style=\"fill:#1f77b4;stroke:#1f77b4;\" x=\"953.142045\" xlink:href=\"#m35f9bc98df\" y=\"69.40877\"/>\n     <use style=\"fill:#1f77b4;stroke:#1f77b4;\" x=\"959.905682\" xlink:href=\"#m35f9bc98df\" y=\"69.40877\"/>\n     <use style=\"fill:#1f77b4;stroke:#1f77b4;\" x=\"966.669318\" xlink:href=\"#m35f9bc98df\" y=\"69.40877\"/>\n     <use style=\"fill:#1f77b4;stroke:#1f77b4;\" x=\"973.432955\" xlink:href=\"#m35f9bc98df\" y=\"69.40877\"/>\n     <use style=\"fill:#1f77b4;stroke:#1f77b4;\" x=\"980.196591\" xlink:href=\"#m35f9bc98df\" y=\"69.40877\"/>\n     <use style=\"fill:#1f77b4;stroke:#1f77b4;\" x=\"986.960227\" xlink:href=\"#m35f9bc98df\" y=\"81.036578\"/>\n     <use style=\"fill:#1f77b4;stroke:#1f77b4;\" x=\"993.723864\" xlink:href=\"#m35f9bc98df\" y=\"92.664385\"/>\n     <use style=\"fill:#1f77b4;stroke:#1f77b4;\" x=\"1000.4875\" xlink:href=\"#m35f9bc98df\" y=\"92.664385\"/>\n     <use style=\"fill:#1f77b4;stroke:#1f77b4;\" x=\"1007.251136\" xlink:href=\"#m35f9bc98df\" y=\"92.664385\"/>\n     <use style=\"fill:#1f77b4;stroke:#1f77b4;\" x=\"1014.014773\" xlink:href=\"#m35f9bc98df\" y=\"92.664385\"/>\n     <use style=\"fill:#1f77b4;stroke:#1f77b4;\" x=\"1020.778409\" xlink:href=\"#m35f9bc98df\" y=\"92.664385\"/>\n     <use style=\"fill:#1f77b4;stroke:#1f77b4;\" x=\"1027.542045\" xlink:href=\"#m35f9bc98df\" y=\"92.664385\"/>\n     <use style=\"fill:#1f77b4;stroke:#1f77b4;\" x=\"1034.305682\" xlink:href=\"#m35f9bc98df\" y=\"104.292193\"/>\n     <use style=\"fill:#1f77b4;stroke:#1f77b4;\" x=\"1041.069318\" xlink:href=\"#m35f9bc98df\" y=\"104.292193\"/>\n     <use style=\"fill:#1f77b4;stroke:#1f77b4;\" x=\"1047.832955\" xlink:href=\"#m35f9bc98df\" y=\"104.292193\"/>\n     <use style=\"fill:#1f77b4;stroke:#1f77b4;\" x=\"1054.596591\" xlink:href=\"#m35f9bc98df\" y=\"104.292193\"/>\n     <use style=\"fill:#1f77b4;stroke:#1f77b4;\" x=\"1061.360227\" xlink:href=\"#m35f9bc98df\" y=\"104.292193\"/>\n     <use style=\"fill:#1f77b4;stroke:#1f77b4;\" x=\"1068.123864\" xlink:href=\"#m35f9bc98df\" y=\"104.292193\"/>\n     <use style=\"fill:#1f77b4;stroke:#1f77b4;\" x=\"1074.8875\" xlink:href=\"#m35f9bc98df\" y=\"110.106096\"/>\n     <use style=\"fill:#1f77b4;stroke:#1f77b4;\" x=\"1081.651136\" xlink:href=\"#m35f9bc98df\" y=\"110.106096\"/>\n     <use style=\"fill:#1f77b4;stroke:#1f77b4;\" x=\"1088.414773\" xlink:href=\"#m35f9bc98df\" y=\"110.106096\"/>\n     <use style=\"fill:#1f77b4;stroke:#1f77b4;\" x=\"1095.178409\" xlink:href=\"#m35f9bc98df\" y=\"110.106096\"/>\n     <use style=\"fill:#1f77b4;stroke:#1f77b4;\" x=\"1101.942045\" xlink:href=\"#m35f9bc98df\" y=\"110.106096\"/>\n     <use style=\"fill:#1f77b4;stroke:#1f77b4;\" x=\"1108.705682\" xlink:href=\"#m35f9bc98df\" y=\"110.106096\"/>\n     <use style=\"fill:#1f77b4;stroke:#1f77b4;\" x=\"1115.469318\" xlink:href=\"#m35f9bc98df\" y=\"144.989519\"/>\n     <use style=\"fill:#1f77b4;stroke:#1f77b4;\" x=\"1122.232955\" xlink:href=\"#m35f9bc98df\" y=\"144.989519\"/>\n     <use style=\"fill:#1f77b4;stroke:#1f77b4;\" x=\"1128.996591\" xlink:href=\"#m35f9bc98df\" y=\"144.989519\"/>\n     <use style=\"fill:#1f77b4;stroke:#1f77b4;\" x=\"1135.760227\" xlink:href=\"#m35f9bc98df\" y=\"144.989519\"/>\n     <use style=\"fill:#1f77b4;stroke:#1f77b4;\" x=\"1142.523864\" xlink:href=\"#m35f9bc98df\" y=\"144.989519\"/>\n     <use style=\"fill:#1f77b4;stroke:#1f77b4;\" x=\"1149.2875\" xlink:href=\"#m35f9bc98df\" y=\"144.989519\"/>\n     <use style=\"fill:#1f77b4;stroke:#1f77b4;\" x=\"1156.051136\" xlink:href=\"#m35f9bc98df\" y=\"191.500749\"/>\n     <use style=\"fill:#1f77b4;stroke:#1f77b4;\" x=\"1162.814773\" xlink:href=\"#m35f9bc98df\" y=\"191.500749\"/>\n     <use style=\"fill:#1f77b4;stroke:#1f77b4;\" x=\"1169.578409\" xlink:href=\"#m35f9bc98df\" y=\"191.500749\"/>\n     <use style=\"fill:#1f77b4;stroke:#1f77b4;\" x=\"1176.342045\" xlink:href=\"#m35f9bc98df\" y=\"191.500749\"/>\n     <use style=\"fill:#1f77b4;stroke:#1f77b4;\" x=\"1183.105682\" xlink:href=\"#m35f9bc98df\" y=\"191.500749\"/>\n     <use style=\"fill:#1f77b4;stroke:#1f77b4;\" x=\"1189.869318\" xlink:href=\"#m35f9bc98df\" y=\"191.500749\"/>\n     <use style=\"fill:#1f77b4;stroke:#1f77b4;\" x=\"1196.632955\" xlink:href=\"#m35f9bc98df\" y=\"194.407701\"/>\n     <use style=\"fill:#1f77b4;stroke:#1f77b4;\" x=\"1203.396591\" xlink:href=\"#m35f9bc98df\" y=\"194.407701\"/>\n     <use style=\"fill:#1f77b4;stroke:#1f77b4;\" x=\"1210.160227\" xlink:href=\"#m35f9bc98df\" y=\"194.407701\"/>\n     <use style=\"fill:#1f77b4;stroke:#1f77b4;\" x=\"1216.923864\" xlink:href=\"#m35f9bc98df\" y=\"194.407701\"/>\n     <use style=\"fill:#1f77b4;stroke:#1f77b4;\" x=\"1223.6875\" xlink:href=\"#m35f9bc98df\" y=\"194.407701\"/>\n     <use style=\"fill:#1f77b4;stroke:#1f77b4;\" x=\"1230.451136\" xlink:href=\"#m35f9bc98df\" y=\"194.407701\"/>\n     <use style=\"fill:#1f77b4;stroke:#1f77b4;\" x=\"1237.214773\" xlink:href=\"#m35f9bc98df\" y=\"194.407701\"/>\n     <use style=\"fill:#1f77b4;stroke:#1f77b4;\" x=\"1243.978409\" xlink:href=\"#m35f9bc98df\" y=\"197.314652\"/>\n     <use style=\"fill:#1f77b4;stroke:#1f77b4;\" x=\"1250.742045\" xlink:href=\"#m35f9bc98df\" y=\"197.314652\"/>\n     <use style=\"fill:#1f77b4;stroke:#1f77b4;\" x=\"1257.505682\" xlink:href=\"#m35f9bc98df\" y=\"197.314652\"/>\n     <use style=\"fill:#1f77b4;stroke:#1f77b4;\" x=\"1264.269318\" xlink:href=\"#m35f9bc98df\" y=\"197.314652\"/>\n     <use style=\"fill:#1f77b4;stroke:#1f77b4;\" x=\"1271.032955\" xlink:href=\"#m35f9bc98df\" y=\"197.314652\"/>\n     <use style=\"fill:#1f77b4;stroke:#1f77b4;\" x=\"1277.796591\" xlink:href=\"#m35f9bc98df\" y=\"197.314652\"/>\n     <use style=\"fill:#1f77b4;stroke:#1f77b4;\" x=\"1284.560227\" xlink:href=\"#m35f9bc98df\" y=\"214.756364\"/>\n     <use style=\"fill:#1f77b4;stroke:#1f77b4;\" x=\"1291.323864\" xlink:href=\"#m35f9bc98df\" y=\"214.756364\"/>\n     <use style=\"fill:#1f77b4;stroke:#1f77b4;\" x=\"1298.0875\" xlink:href=\"#m35f9bc98df\" y=\"214.756364\"/>\n     <use style=\"fill:#1f77b4;stroke:#1f77b4;\" x=\"1304.851136\" xlink:href=\"#m35f9bc98df\" y=\"214.756364\"/>\n     <use style=\"fill:#1f77b4;stroke:#1f77b4;\" x=\"1311.614773\" xlink:href=\"#m35f9bc98df\" y=\"214.756364\"/>\n    </g>\n   </g>\n   <g id=\"patch_3\">\n    <path d=\"M 33.2875 224.64 \nL 33.2875 7.2 \n\" style=\"fill:none;stroke:#000000;stroke-linecap:square;stroke-linejoin:miter;stroke-width:0.8;\"/>\n   </g>\n   <g id=\"patch_4\">\n    <path d=\"M 1372.4875 224.64 \nL 1372.4875 7.2 \n\" style=\"fill:none;stroke:#000000;stroke-linecap:square;stroke-linejoin:miter;stroke-width:0.8;\"/>\n   </g>\n   <g id=\"patch_5\">\n    <path d=\"M 33.2875 224.64 \nL 1372.4875 224.64 \n\" style=\"fill:none;stroke:#000000;stroke-linecap:square;stroke-linejoin:miter;stroke-width:0.8;\"/>\n   </g>\n   <g id=\"patch_6\">\n    <path d=\"M 33.2875 7.2 \nL 1372.4875 7.2 \n\" style=\"fill:none;stroke:#000000;stroke-linecap:square;stroke-linejoin:miter;stroke-width:0.8;\"/>\n   </g>\n  </g>\n </g>\n <defs>\n  <clipPath id=\"p9926e86039\">\n   <rect height=\"217.44\" width=\"1339.2\" x=\"33.2875\" y=\"7.2\"/>\n  </clipPath>\n </defs>\n</svg>\n",
      "image/png": "[encoded data removed]"
     },
     "metadata": {
      "needs_background": "light"
     }
    }
   ],
   "metadata": {}
  }
 ],
 "metadata": {
  "interpreter": {
   "hash": "f72e70f988f1c56caae784560892b1a82ca92323e7ace1ee4491533d71f07d2a"
  },
  "kernelspec": {
   "name": "python3",
   "display_name": "Python 3.8.10 64-bit ('pytorch-gpu': conda)"
  },
  "language_info": {
   "codemirror_mode": {
    "name": "ipython",
    "version": 3
   },
   "file_extension": ".py",
   "mimetype": "text/x-python",
   "name": "python",
   "nbconvert_exporter": "python",
   "pygments_lexer": "ipython3",
   "version": "3.8.10"
  },
  "orig_nbformat": 4
 },
 "nbformat": 4,
 "nbformat_minor": 2
}